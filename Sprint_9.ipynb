{
 "cells": [
  {
   "cell_type": "markdown",
   "metadata": {},
   "source": [
    "Hola **Carolina**!\n",
    "\n",
    "Soy **Patricio Requena** 👋. Es un placer ser el revisor de tu proyecto el día de hoy!\n",
    "\n",
    "Revisaré tu proyecto detenidamente con el objetivo de ayudarte a mejorar y perfeccionar tus habilidades. Durante mi revisión, identificaré áreas donde puedas hacer mejoras en tu código, señalando específicamente qué y cómo podrías ajustar para optimizar el rendimiento y la claridad de tu proyecto. Además, es importante para mí destacar los aspectos que has manejado excepcionalmente bien. Reconocer tus fortalezas te ayudará a entender qué técnicas y métodos están funcionando a tu favor y cómo puedes aplicarlos en futuras tareas. \n",
    "\n",
    "_**Recuerda que al final de este notebook encontrarás un comentario general de mi parte**_, empecemos!\n",
    "\n",
    "Encontrarás mis comentarios dentro de cajas verdes, amarillas o rojas, ⚠️ **por favor, no muevas, modifiques o borres mis comentarios** ⚠️:\n",
    "\n",
    "\n",
    "<div class=\"alert alert-block alert-success\">\n",
    "<b>Comentario del revisor</b> <a class=“tocSkip”></a>\n",
    "Si todo está perfecto.\n",
    "</div>\n",
    "\n",
    "<div class=\"alert alert-block alert-warning\">\n",
    "<b>Comentario del revisor</b> <a class=“tocSkip”></a>\n",
    "Si tu código está bien pero se puede mejorar o hay algún detalle que le hace falta.\n",
    "</div>\n",
    "\n",
    "<div class=\"alert alert-block alert-danger\">\n",
    "<b>Comentario del revisor</b> <a class=“tocSkip”></a>\n",
    "Si de pronto hace falta algo o existe algún problema con tu código o conclusiones.\n",
    "</div>\n",
    "\n",
    "Puedes responderme de esta forma:\n",
    "<div class=\"alert alert-block alert-info\">\n",
    "<b>Respuesta del estudiante</b> <a class=“tocSkip”></a>\n",
    "</div>"
   ]
  },
  {
   "cell_type": "markdown",
   "metadata": {},
   "source": [
    "Objetivo de la actividad: modelo que pueda analizar el comportamiento de los clientes y recomendar uno de los nuevos planes de Megaline: Smart o Ultra."
   ]
  },
  {
   "cell_type": "markdown",
   "metadata": {},
   "source": [
    "Requerimientos\n",
    "° umbral de exactitud es 0.75 (buscar la mayor exactitud posible)\n"
   ]
  },
  {
   "cell_type": "markdown",
   "metadata": {},
   "source": [
    "Descripción de datos(contiene información del comportamiento mensual sobre un usuario):\n",
    "* сalls — número de llamadas,\n",
    "* minutes — duración total de la llamada en minutos,\n",
    "* messages — número de mensajes de texto,\n",
    "* mb_used — Tráfico de Internet utilizado en MB,\n",
    "* is_ultra — plan para el mes actual (Ultra - 1, Smart - 0)"
   ]
  },
  {
   "cell_type": "code",
   "execution_count": 1,
   "metadata": {},
   "outputs": [],
   "source": [
    "#importacion de liberias\n",
    "import pandas as pd\n",
    "from sklearn.linear_model import LogisticRegression\n",
    "from sklearn.ensemble import RandomForestClassifier\n",
    "from sklearn.tree import DecisionTreeClassifier\n",
    "from sklearn.metrics import accuracy_score\n",
    "from sklearn.model_selection import train_test_split"
   ]
  },
  {
   "cell_type": "code",
   "execution_count": 2,
   "metadata": {},
   "outputs": [],
   "source": [
    "#Carga del dataframe\n",
    "df = pd.read_csv('/datasets/users_behavior.csv')"
   ]
  },
  {
   "cell_type": "code",
   "execution_count": 3,
   "metadata": {},
   "outputs": [
    {
     "name": "stdout",
     "output_type": "stream",
     "text": [
      "<class 'pandas.core.frame.DataFrame'>\n",
      "RangeIndex: 3214 entries, 0 to 3213\n",
      "Data columns (total 5 columns):\n",
      " #   Column    Non-Null Count  Dtype  \n",
      "---  ------    --------------  -----  \n",
      " 0   calls     3214 non-null   float64\n",
      " 1   minutes   3214 non-null   float64\n",
      " 2   messages  3214 non-null   float64\n",
      " 3   mb_used   3214 non-null   float64\n",
      " 4   is_ultra  3214 non-null   int64  \n",
      "dtypes: float64(4), int64(1)\n",
      "memory usage: 125.7 KB\n",
      "------------------------------\n"
     ]
    },
    {
     "data": {
      "text/html": [
       "<div>\n",
       "<style scoped>\n",
       "    .dataframe tbody tr th:only-of-type {\n",
       "        vertical-align: middle;\n",
       "    }\n",
       "\n",
       "    .dataframe tbody tr th {\n",
       "        vertical-align: top;\n",
       "    }\n",
       "\n",
       "    .dataframe thead th {\n",
       "        text-align: right;\n",
       "    }\n",
       "</style>\n",
       "<table border=\"1\" class=\"dataframe\">\n",
       "  <thead>\n",
       "    <tr style=\"text-align: right;\">\n",
       "      <th></th>\n",
       "      <th>calls</th>\n",
       "      <th>minutes</th>\n",
       "      <th>messages</th>\n",
       "      <th>mb_used</th>\n",
       "      <th>is_ultra</th>\n",
       "    </tr>\n",
       "  </thead>\n",
       "  <tbody>\n",
       "    <tr>\n",
       "      <th>2967</th>\n",
       "      <td>80.0</td>\n",
       "      <td>583.37</td>\n",
       "      <td>58.0</td>\n",
       "      <td>20898.57</td>\n",
       "      <td>1</td>\n",
       "    </tr>\n",
       "    <tr>\n",
       "      <th>192</th>\n",
       "      <td>123.0</td>\n",
       "      <td>810.67</td>\n",
       "      <td>12.0</td>\n",
       "      <td>36684.49</td>\n",
       "      <td>1</td>\n",
       "    </tr>\n",
       "    <tr>\n",
       "      <th>1452</th>\n",
       "      <td>40.0</td>\n",
       "      <td>263.64</td>\n",
       "      <td>56.0</td>\n",
       "      <td>11382.98</td>\n",
       "      <td>0</td>\n",
       "    </tr>\n",
       "    <tr>\n",
       "      <th>1696</th>\n",
       "      <td>159.0</td>\n",
       "      <td>1174.00</td>\n",
       "      <td>149.0</td>\n",
       "      <td>33258.60</td>\n",
       "      <td>1</td>\n",
       "    </tr>\n",
       "    <tr>\n",
       "      <th>2966</th>\n",
       "      <td>128.0</td>\n",
       "      <td>869.07</td>\n",
       "      <td>0.0</td>\n",
       "      <td>21723.95</td>\n",
       "      <td>1</td>\n",
       "    </tr>\n",
       "  </tbody>\n",
       "</table>\n",
       "</div>"
      ],
      "text/plain": [
       "      calls  minutes  messages   mb_used  is_ultra\n",
       "2967   80.0   583.37      58.0  20898.57         1\n",
       "192   123.0   810.67      12.0  36684.49         1\n",
       "1452   40.0   263.64      56.0  11382.98         0\n",
       "1696  159.0  1174.00     149.0  33258.60         1\n",
       "2966  128.0   869.07       0.0  21723.95         1"
      ]
     },
     "execution_count": 3,
     "metadata": {},
     "output_type": "execute_result"
    }
   ],
   "source": [
    "#Examinar el df\n",
    "df.info()\n",
    "print(\"-\" * 30)\n",
    "df.sample(5)"
   ]
  },
  {
   "cell_type": "markdown",
   "metadata": {},
   "source": [
    "observaciones de los datos:\n",
    "* ninguna fila contiene datos nulos\n",
    "* verificar si calls y messages realmente usan decimales o se puede transformar a int\n",
    "* contar los valores de is_ulta"
   ]
  },
  {
   "cell_type": "code",
   "execution_count": 4,
   "metadata": {},
   "outputs": [
    {
     "name": "stdout",
     "output_type": "stream",
     "text": [
      "¿Todos los valores de 'calls' son enteros? True\n",
      "¿Todos los valores de 'messages' son enteros? True\n",
      "------------------------------\n",
      "0    2229\n",
      "1     985\n",
      "Name: is_ultra, dtype: int64\n",
      "------------------------------\n",
      "             calls      minutes     messages       mb_used     is_ultra\n",
      "count  3214.000000  3214.000000  3214.000000   3214.000000  3214.000000\n",
      "mean     63.038892   438.208787    38.281269  17207.673836     0.306472\n",
      "std      33.236368   234.569872    36.148326   7570.968246     0.461100\n",
      "min       0.000000     0.000000     0.000000      0.000000     0.000000\n",
      "25%      40.000000   274.575000     9.000000  12491.902500     0.000000\n",
      "50%      62.000000   430.600000    30.000000  16943.235000     0.000000\n",
      "75%      82.000000   571.927500    57.000000  21424.700000     1.000000\n",
      "max     244.000000  1632.060000   224.000000  49745.730000     1.000000\n"
     ]
    }
   ],
   "source": [
    "# Verificacion de decimales\n",
    "print(\"¿Todos los valores de 'calls' son enteros?\", (df['calls'] % 1 == 0).all())\n",
    "print(\"¿Todos los valores de 'messages' son enteros?\", (df['messages'] % 1 == 0).all())\n",
    "print(\"-\" * 30)\n",
    "\n",
    "#cambiar tipo de dato\n",
    "columnas_a_convertir = ['calls', 'messages']\n",
    "df[columnas_a_convertir] = df[columnas_a_convertir].astype(int)\n",
    "\n",
    "#contar los valores de 0 y 1\n",
    "print(df['is_ultra'].value_counts())\n",
    "print(\"-\" * 30)\n",
    "\n",
    "#estadisticas extra\n",
    "print(df.describe())"
   ]
  },
  {
   "cell_type": "code",
   "execution_count": 5,
   "metadata": {},
   "outputs": [],
   "source": [
    "#Segmentacion de los datosen un conjunto de entrenamiento, uno de validación y uno de prueba.\n",
    "features = df.drop(['is_ultra'], axis=1)\n",
    "target = df['is_ultra'] "
   ]
  },
  {
   "cell_type": "code",
   "execution_count": 6,
   "metadata": {},
   "outputs": [],
   "source": [
    "# Primera división, hare un 6/2/2\n",
    "features_divisible_1, features_test_1, target_divisible_1, target_test_1 = train_test_split(features, target, test_size=0.2, random_state=12345)\n",
    "# Segunda división\n",
    "features_train_1, features_valid_1, target_train_1, target_valid_1 = train_test_split(features_divisible_1, target_divisible_1, test_size=0.25, random_state=12345)"
   ]
  },
  {
   "cell_type": "markdown",
   "metadata": {},
   "source": [
    "<div class=\"alert alert-block alert-success\">\n",
    "<b>Comentario del revisor (1ra Iteracion)</b> <a class=“tocSkip”></a>\n",
    "\n",
    "Muy bien realizada la división de los datos para evaluar correctamente los modelos. Es importante tener dividido los datos ya que no se puede evaluar el modelo sobre los mismos datos que ya vió para su entrenamiento\n",
    "</div>"
   ]
  },
  {
   "cell_type": "code",
   "execution_count": 7,
   "metadata": {},
   "outputs": [
    {
     "name": "stdout",
     "output_type": "stream",
     "text": [
      "Accuracy del modelo de regresión logística en el conjunto de entrenamiento: 0.7028008298755186\n",
      "Accuracy del modelo de regresión logística en el conjunto de validación: 0.6998444790046656\n",
      "Accuracy del modelo de regresión logística en el conjunto de prueba: 0.6998444790046656\n"
     ]
    }
   ],
   "source": [
    "#Regresion logistica con la primera particion\n",
    "model = LogisticRegression(random_state=54321, solver='liblinear')\n",
    "model.fit(features_train_1, target_train_1) # entrena el modelo\n",
    "\n",
    "score_train = model.score(features_train_1, target_train_1) \n",
    "score_valid = model.score(features_valid_1,target_valid_1) \n",
    "score_test = model.score(features_test_1,target_test_1)\n",
    "\n",
    "print(\"Accuracy del modelo de regresión logística en el conjunto de entrenamiento:\", score_train)\n",
    "print(\"Accuracy del modelo de regresión logística en el conjunto de validación:\", score_valid)\n",
    "print(\"Accuracy del modelo de regresión logística en el conjunto de prueba:\", score_test)\n"
   ]
  },
  {
   "cell_type": "code",
   "execution_count": 8,
   "metadata": {},
   "outputs": [],
   "source": [
    "# Primera división, hare un 5/2.5/2.5\n",
    "features_divisible_2, features_test_2, target_divisible_2, target_test_2 = train_test_split(features, target, test_size=0.25, random_state=12345)\n",
    "# Segunda división\n",
    "features_train_2, features_valid_2, target_train_2, target_valid_2 = train_test_split(features_divisible_2, target_divisible_2, test_size=0.33, random_state=12345)"
   ]
  },
  {
   "cell_type": "code",
   "execution_count": 9,
   "metadata": {},
   "outputs": [
    {
     "name": "stdout",
     "output_type": "stream",
     "text": [
      "Accuracy del modelo de regresión logística en el conjunto de entrenamiento: 0.7453531598513011\n",
      "Accuracy del modelo de regresión logística en el conjunto de validación: 0.7298994974874372\n",
      "Accuracy del modelo de regresión logística en el conjunto de prueba: 0.7574626865671642\n"
     ]
    }
   ],
   "source": [
    "#Regresion logistica con el segundo particionamiento\n",
    "model = LogisticRegression(random_state=54321, solver='liblinear')\n",
    "model.fit(features_train_2, target_train_2) # entrena el modelo\n",
    "\n",
    "score_train = model.score(features_train_2, target_train_2) \n",
    "score_valid = model.score(features_valid_2,target_valid_2) \n",
    "score_test = model.score(features_test_2,target_test_2)\n",
    "\n",
    "print(\"Accuracy del modelo de regresión logística en el conjunto de entrenamiento:\", score_train)\n",
    "print(\"Accuracy del modelo de regresión logística en el conjunto de validación:\", score_valid)\n",
    "print(\"Accuracy del modelo de regresión logística en el conjunto de prueba:\", score_test)\n"
   ]
  },
  {
   "cell_type": "code",
   "execution_count": 10,
   "metadata": {
    "scrolled": true
   },
   "outputs": [
    {
     "name": "stdout",
     "output_type": "stream",
     "text": [
      "La exactitud del mejor modelo en el conjunto de validación: 0.7978227060653188\n",
      "La exactitud del mejor modelo en el conjunto de entrenamiento: 0.9984439834024896\n",
      "La exactitud del mejor modelo en el conjunto de testeo: 0.7853810264385692\n",
      "La exactitud del mejor modelo en el mejor numero arboles:  35\n"
     ]
    }
   ],
   "source": [
    "#bosque aleatorio de clasificacion con el segundo particionamiento\n",
    "best_score = 0\n",
    "best_train = 0\n",
    "best_test = 0\n",
    "\n",
    "best_est = 0\n",
    "for est in range(1, 51): # selecciona el rango del hiperparámetro\n",
    "    model = RandomForestClassifier(random_state=54321, n_estimators=est)\n",
    "    model.fit(features_train_1,target_train_1) \n",
    "    \n",
    "    score = model.score(features_valid_1,target_valid_1) \n",
    "    train = model.score(features_train_1, target_train_1) \n",
    "    test = model.score(features_test_1,target_test_1)\n",
    "    \n",
    "    if score > best_score:\n",
    "        best_score = score \n",
    "        best_est = est \n",
    "        best_train = train\n",
    "        best_test = test\n",
    "\n",
    "print(f\"La exactitud del mejor modelo en el conjunto de validación: {best_score}\")\n",
    "print(f\"La exactitud del mejor modelo en el conjunto de entrenamiento: {best_train}\")\n",
    "print(f\"La exactitud del mejor modelo en el conjunto de testeo: {best_test}\")\n",
    "print(f\"La exactitud del mejor modelo en el mejor numero arboles:  {best_est}\")"
   ]
  },
  {
   "cell_type": "code",
   "execution_count": 11,
   "metadata": {},
   "outputs": [
    {
     "name": "stdout",
     "output_type": "stream",
     "text": [
      "La exactitud del mejor modelo en el conjunto de validación: 0.8090452261306532\n",
      "La exactitud del mejor modelo en el conjunto de entrenamiento: 0.9950433705080545\n",
      "La exactitud del mejor modelo en el conjunto de testeo: 0.7935323383084577\n",
      "La exactitud del mejor modelo en el mejor numero arboles:  26\n"
     ]
    }
   ],
   "source": [
    "#bosque aleatorio de clasificacion con el segundo particionamiento\n",
    "best_score = 0\n",
    "best_train = 0\n",
    "best_test = 0\n",
    "\n",
    "best_est = 0\n",
    "for est in range(1, 51): # selecciona el rango del hiperparámetro\n",
    "    model = RandomForestClassifier(random_state=54321, n_estimators=est)\n",
    "    model.fit(features_train_2,target_train_2) \n",
    "    \n",
    "    score = model.score(features_valid_2,target_valid_2) \n",
    "    train = model.score(features_train_2, target_train_2) \n",
    "    test = model.score(features_test_2,target_test_2)\n",
    "    \n",
    "    if score > best_score:\n",
    "        best_score = score \n",
    "        best_est = est \n",
    "        best_train = train\n",
    "        best_test = test\n",
    "\n",
    "print(f\"La exactitud del mejor modelo en el conjunto de validación: {best_score}\")\n",
    "print(f\"La exactitud del mejor modelo en el conjunto de entrenamiento: {best_train}\")\n",
    "print(f\"La exactitud del mejor modelo en el conjunto de testeo: {best_test}\")\n",
    "print(f\"La exactitud del mejor modelo en el mejor numero arboles:  {best_est}\")"
   ]
  },
  {
   "cell_type": "markdown",
   "metadata": {},
   "source": [
    "<div class=\"alert alert-block alert-warning\">\n",
    "<b>Comentario del revisor (1ra Iteracion)</b> <a class=“tocSkip”></a>\n",
    "\n",
    "Aquí hay que tener cuidado con el entrenamiento del modelo, si te das cuenta el score de entrenamiento es casi 1.0, un puntaje perfecto, pero la diferencia en test y validación es considerable lo que indica que tu modelo está tendiendo al sobre-ajuste\n",
    "</div>"
   ]
  },
  {
   "cell_type": "code",
   "execution_count": 12,
   "metadata": {},
   "outputs": [
    {
     "name": "stdout",
     "output_type": "stream",
     "text": [
      "La exactitud del mejor modelo en el conjunto de validación: 0.7651632970451011\n",
      "La exactitud del mejor modelo en el conjunto de entrenamiento: 0.8117219917012448\n",
      "La exactitud del mejor modelo en el conjunto de testeo: 0.7869362363919129\n",
      "La mejor exactitud del mejor modelo fue en la capa:  3\n"
     ]
    }
   ],
   "source": [
    "#arbol de decision primera particion\n",
    "best_score = 0\n",
    "best_train = 0\n",
    "best_test = 0\n",
    "best_depth = 0\n",
    "for depth in range(1,6):\n",
    "    model = DecisionTreeClassifier(max_depth=depth, random_state=12345)\n",
    "    model.fit(features_train_1, target_train_1)  \n",
    "\n",
    "    score = model.score(features_valid_1,target_valid_1) \n",
    "    train = model.score(features_train_1, target_train_1) \n",
    "    test = model.score(features_test_1,target_test_1)\n",
    "\n",
    "    if score > best_score:\n",
    "        best_score = score \n",
    "        best_test = test \n",
    "        best_train = train\n",
    "        best_depth = depth\n",
    "        \n",
    "print(f\"La exactitud del mejor modelo en el conjunto de validación: {best_score}\")\n",
    "print(f\"La exactitud del mejor modelo en el conjunto de entrenamiento: {best_train}\")\n",
    "print(f\"La exactitud del mejor modelo en el conjunto de testeo: {best_test}\")\n",
    "print(f\"La mejor exactitud del mejor modelo fue en la capa:  {best_depth}\")"
   ]
  },
  {
   "cell_type": "markdown",
   "metadata": {},
   "source": [
    "<div class=\"alert alert-block alert-success\">\n",
    "<b>Comentario del revisor (1ra Iteracion)</b> <a class=“tocSkip”></a>\n",
    "\n",
    "Muy bien planteado el código para probar con los diferentes modelos para conseguir un mejor performance!\n",
    "</div>"
   ]
  },
  {
   "cell_type": "code",
   "execution_count": 13,
   "metadata": {},
   "outputs": [
    {
     "name": "stdout",
     "output_type": "stream",
     "text": [
      "La exactitud del mejor modelo en el conjunto de validación: 0.7876884422110553\n",
      "La exactitud del mejor modelo en el conjunto de entrenamiento: 0.8011152416356877\n",
      "La exactitud del mejor modelo en el conjunto de testeo: 0.7910447761194029\n",
      "La mejor exactitud del mejor modelo fue en la capa:  3\n"
     ]
    }
   ],
   "source": [
    "#arbol de decision segunda particion\n",
    "best_score = 0\n",
    "best_train = 0\n",
    "best_test = 0\n",
    "best_depth = 0\n",
    "for depth in range(1,6):\n",
    "    model = DecisionTreeClassifier(max_depth=depth, random_state=12345)\n",
    "    model.fit(features_train_2, target_train_2)  \n",
    "\n",
    "    score = model.score(features_valid_2,target_valid_2) \n",
    "    train = model.score(features_train_2, target_train_2) \n",
    "    test = model.score(features_test_2,target_test_2)\n",
    "\n",
    "    if score > best_score:\n",
    "        best_score = score \n",
    "        best_test = test \n",
    "        best_train = train\n",
    "        best_depth = depth\n",
    "        \n",
    "print(f\"La exactitud del mejor modelo en el conjunto de validación: {best_score}\")\n",
    "print(f\"La exactitud del mejor modelo en el conjunto de entrenamiento: {best_train}\")\n",
    "print(f\"La exactitud del mejor modelo en el conjunto de testeo: {best_test}\")\n",
    "print(f\"La mejor exactitud del mejor modelo fue en la capa:  {best_depth}\")"
   ]
  },
  {
   "cell_type": "markdown",
   "metadata": {},
   "source": [
    "Describe brevemente los hallazgos del estudio:\n",
    "\n",
    "* Comparación de Divisiones de Datos\n",
    "División 60/20/20 vs 50/25/25:\n",
    "\n",
    "La división 50/25/25 consistentemente supera a la 60/20/20\n",
    "Diferencia promedio: ~5-8% mejor accuracy esto dependiendo igual cual de los 3 conjuntos es: normalmente tiene un resultado mas alto en validacion y testo, pero 60/20/20 muestra mayor presicion en entrenamiento\n",
    "\n",
    "Rendimiento por Modelo:\n",
    "\n",
    "RandomForest (fue el de mejores resultados):\n",
    "Mejor accuracy: 80.9% (validación) con 26 árboles\n",
    "Test accuracy: 79.4% - SUPERA el umbral de 75%\n",
    "Muestra signos de sobreajuste (99.5% en entrenamiento)\n",
    "\n",
    "DecisionTree:\n",
    "Mejor accuracy: 76.5% (validación) con profundidad 3\n",
    "Test accuracy: 78.7% - SUPERA el umbral de 75%\n",
    "Menos sobreajuste que RandomForest\n",
    "\n",
    "LogisticRegression:\n",
    "Accuracy: 72.9% (validación)\n",
    "Test accuracy: 75.7% - Apenas supera el umbral\n",
    "Modelo más estable, menos sobreajuste\n",
    "\n",
    "tambien tomemos en cuenta que hubo algo de varion en los resultados  por las diferentes visiones, aunque en todos se obtuvieron buenos resultados\n",
    "\n",
    "mejores resultados:\n",
    "Modelo recomendado: RandomForest con 26 estimadores\n",
    "- Mejor balance entre accuracy y generalización\n",
    "- Supera claramente el umbral requerido (75%)\n",
    "  "
   ]
  },
  {
   "cell_type": "code",
   "execution_count": 14,
   "metadata": {},
   "outputs": [
    {
     "name": "stdout",
     "output_type": "stream",
     "text": [
      "Accuracy predicción aleatoria del testeo: 0.4987562189054726\n",
      "Accuracy predicción aleatoria del testeo: 0.5175879396984925\n",
      "Accuracy predicción aleatoria del testeo: 0.48698884758364314\n"
     ]
    }
   ],
   "source": [
    "#prueba de cordura al modelo\n",
    "from sklearn.dummy import DummyClassifier # Modelo que predice aleatoriamente\n",
    "\n",
    "dummy_model = DummyClassifier(strategy='uniform', random_state=12345)\n",
    "dummy_model.fit(features_train_2, target_train_2)\n",
    "\n",
    "testeo = dummy_model.score(features_test_2, target_test_2)\n",
    "print(f\"Accuracy predicción aleatoria del testeo: {testeo}\")\n",
    "\n",
    "valid = dummy_model.score(features_valid_2, target_valid_2)\n",
    "print(f\"Accuracy predicción aleatoria del testeo: {valid}\")\n",
    "\n",
    "train = dummy_model.score(features_train_2, target_train_2)\n",
    "print(f\"Accuracy predicción aleatoria del testeo: {train}\")"
   ]
  },
  {
   "cell_type": "markdown",
   "metadata": {},
   "source": [
    "Resultados finales:\n",
    "\n",
    "# Objetivo Cumplido \n",
    "Se logró desarrollar un modelo de clasificación que supera el umbral requerido de 75% de exactitud para recomendar planes Smart o Ultra a los clientes de Megaline.\n",
    "\n",
    "# Distribución de datos (2314 filas totales)\n",
    "- Plan Smart (0): 2,229 usuarios (69.4%)\n",
    "- Plan Ultra (1): 985 usuarios (30.6%)\n",
    "\n",
    "# Mejor division:\n",
    "La división 50/25/25 mostró  mejores resultados\n",
    "- Mejor generalización del modelo\n",
    "- Mayor accuracy en validación y prueba\n",
    "- Diferencia promedio: 5-8% superior\n",
    "- aunque posiblemente tenga sobreajuste\n",
    "\n",
    "# Mejor modelo:\n",
    "Random Forest:\n",
    "- Accuracy validación: 80.9% con 26 estimadores\n",
    "- Accuracy prueba: 79.4%  Supera umbral\n",
    "- Observación: Presenta sobreajuste (99.5% en entrenamiento)\n",
    "\n",
    "Decision Tree:\n",
    "- Accuracy validación: 78.8% con profundidad 3\n",
    "- Accuracy prueba: 79.1%  Supera umbral\n",
    "- Menor sobreajuste que Random Forest\n",
    "\n",
    "Logistic Regression:\n",
    "- Accuracy validación: 73.0%\n",
    "- Accuracy prueba: 75.7%  Apenas supera umbral\n",
    "- Modelo más estable, sin sobreajuste\n",
    "\n",
    "# prueba de cordura:\n",
    "El modelo dummy (predicción aleatoria) obtuvo ~50% de accuracy, confirmando que nuestros modelos (75-79%) son significativamente mejores que el azar"
   ]
  },
  {
   "cell_type": "markdown",
   "metadata": {},
   "source": [
    "<div class=\"alert alert-block alert-warning\">\n",
    "<b>Comentario del revisor (1ra Iteracion)</b> <a class=“tocSkip”></a>\n",
    "\n",
    "Buen trabajo con tu proyecto! Entrenaste los modelos correctamente obteniendo una métrica por encima de lo propuesto.\n",
    "    \n",
    "También podrías realizar un EDA de los datos un poco más detallado, puedes generar gráficas y explorar las diferentes variables ya que así entenderás mejor los datos y sabrás que es lo que puede afectar tu modelo.\n",
    "    \n",
    "Saludos!\n",
    "</div>"
   ]
  }
 ],
 "metadata": {
  "kernelspec": {
   "display_name": "Python 3 (ipykernel)",
   "language": "python",
   "name": "python3"
  },
  "language_info": {
   "codemirror_mode": {
    "name": "ipython",
    "version": 3
   },
   "file_extension": ".py",
   "mimetype": "text/x-python",
   "name": "python",
   "nbconvert_exporter": "python",
   "pygments_lexer": "ipython3",
   "version": "3.9.23"
  }
 },
 "nbformat": 4,
 "nbformat_minor": 4
}
