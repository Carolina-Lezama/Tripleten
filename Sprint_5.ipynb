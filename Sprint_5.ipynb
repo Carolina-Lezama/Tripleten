{
 "cells": [
  {
   "cell_type": "markdown",
   "metadata": {},
   "source": [
    "# ¡Hola Carolina! <a class=\"tocSkip\"></a>\n",
    "\n",
    "Mi nombre es Oscar Flores y tengo el gusto de revisar tu proyecto. Si tienes algún comentario que quieras agregar en tus respuestas te puedes referir a mi como Oscar, no hay problema que me trates de tú.\n",
    "\n",
    "Si veo un error en la primera revisión solamente lo señalaré y dejaré que tú encuentres de qué se trata y cómo arreglarlo. Debo prepararte para que te desempeñes como especialista en Data, en un trabajo real, el responsable a cargo tuyo hará lo mismo. Si aún tienes dificultades para resolver esta tarea, te daré indicaciones más precisas en una siguiente iteración.\n",
    "\n",
    "Te dejaré mis comentarios más abajo - **por favor, no los muevas, modifiques o borres**\n",
    "\n",
    "Comenzaré mis comentarios con un resumen de los puntos que están bien, aquellos que debes corregir y aquellos que puedes mejorar. Luego deberás revisar todo el notebook para leer mis comentarios, los cuales estarán en rectángulos de color verde, amarillo o rojo como siguen:\n",
    "\n",
    "<div class='alert alert-block alert-success'>\n",
    "<b>Comentario de Reviewer</b> <a class='tocSkip'></a>\n",
    "\n",
    "Muy bien! Toda la respuesta fue lograda satisfactoriamente.\n",
    "</div>\n",
    "\n",
    "<div class='alert alert-block alert-warning'>\n",
    "<b>Comentario de Reviewer</b> <a class='tocSkip'></a>\n",
    "\n",
    "Existen detalles a mejorar. Existen recomendaciones.\n",
    "</div>\n",
    "\n",
    "<div class='alert alert-block alert-danger'>\n",
    "\n",
    "<b>Comentario de Reviewer</b> <a class='tocSkip'></a>\n",
    "\n",
    "Se necesitan correcciones en el bloque. El trabajo no puede ser aceptado con comentarios en rojo sin solucionar.\n",
    "</div>\n",
    "\n",
    "Cualquier comentario que quieras agregar entre iteraciones de revisión lo puedes hacer de la siguiente manera:\n",
    "\n",
    "<div class='alert alert-block alert-info'>\n",
    "<b>Respuesta estudiante.</b> <a class='tocSkip'></a>\n",
    "    buenos dias, ya cogerri pa parte del category, y rellene con 0 antes de los ingresos para que finalmente estos se muestren correctamente \n",
    "</div>\n",
    "\n",
    "Mucho éxito en el proyecto!"
   ]
  },
  {
   "cell_type": "markdown",
   "metadata": {},
   "source": [
    "## Resumen de la revisión v1 <a class=\"tocSkip\"></a>"
   ]
  },
  {
   "cell_type": "markdown",
   "metadata": {},
   "source": [
    "<div class=\"alert alert-block alert-danger\">\n",
    "<b>Comentario de Revisor            </b> <a class=\"tocSkip\"></a>\n",
    "\n",
    "Hola Carolina, ¿cómo estás? Espero que todo esté bien por tu lado.\n",
    "    \n",
    "Felicitaciones por completar todos los items del notebook, veo bastante trabajo a lo largo de este. En general, está todo correcto y con una buena aplicación del código necesario para lograr los objetivos. Sin embargo, hay un punto importante a modificar en el cálculo de los consumos, el cual distorsiona el cálculo del ingreso, ya que genera consumos que no se dieron realmente. Al final de la parte de llamadas te doy una explicación detallada al respecto. Lo bueno es que es una corrección simple, que debería dejar todo bastante bien una vez realizada. Te dejé comentarios en rojo en todas las correcciones de esta primera revisión, revísalos y realiza las modificaciones necesarias.\n",
    "\n",
    "Si tienes dudas o preguntas, me las puedes dejar en comentario azul, con gusto las responderé en la siguiente iteración.\n",
    "\n",
    "Saludos!\n",
    "\n",
    "\n",
    "</div>"
   ]
  },
  {
   "cell_type": "markdown",
   "metadata": {},
   "source": [
    "## Resumen de la revisión v2 <a class=\"tocSkip\"></a>"
   ]
  },
  {
   "cell_type": "markdown",
   "metadata": {},
   "source": [
    "<div class=\"alert alert-block alert-danger\">\n",
    "<b>Comentario de Revisor v2 </b> <a class=\"tocSkip\"></a>\n",
    "\n",
    "Hola Carolina, ¿cómo va todo? Espero que estés teniendo una buena jornada.\n",
    "\n",
    "Bien hecho al modificar el uso de category en las llamadas, sin embargo, es importante que lo elimines para todos los consumos. Con esa modificación y usando `fillna(0)` antes del cálculo del ingreso, todo debería estar bien. \n",
    "\n",
    "Ante cualquier duda, no dudes en dejar un comentario en azul. Con gusto lo atenderé en la próxima iteración.\n",
    "\n",
    "Saludos!\n",
    "\n",
    "\n",
    "\n",
    "</div>"
   ]
  },
  {
   "cell_type": "markdown",
   "metadata": {},
   "source": [
    "## Resumen de la revisión v3 <a class=\"tocSkip\"></a>"
   ]
  },
  {
   "cell_type": "markdown",
   "metadata": {},
   "source": [
    "<div class=\"alert alert-block alert-success\">\n",
    "<b>Comentario de Revisor  v3 </b> <a class=\"tocSkip\"></a>\n",
    "\n",
    "¡Felicitaciones Carolina! Hiciste un gran trabajo con las últimas correcciones. El notebook está completo y todo está en orden, por lo que tu proyecto queda aprobado. Lo que aprendiste y aplicaste aquí te servirá muchísimo en futuros desafíos de análisis de datos. ¡Mucho éxito!\n",
    "\n",
    "Saludos.\n",
    "\n",
    "</div>"
   ]
  },
  {
   "cell_type": "markdown",
   "metadata": {},
   "source": [
    "----"
   ]
  },
  {
   "cell_type": "markdown",
   "metadata": {
    "id": "3rYiDeEH0q0f"
   },
   "source": [
    "# ¿Cuál es la mejor tarifa?\n",
    "\n",
    "Trabajas como analista para el operador de telecomunicaciones Megaline. La empresa ofrece a sus clientes dos tarifas de prepago, Surf y Ultimate. El departamento comercial quiere saber cuál de las tarifas genera más ingresos para poder ajustar el presupuesto de publicidad.\n",
    "\n",
    "Vas a realizar un análisis preliminar de las tarifas basado en una selección de clientes relativamente pequeña. Tendrás los datos de 500 clientes de Megaline: quiénes son los clientes, de dónde son, qué tarifa usan, así como la cantidad de llamadas que hicieron y los mensajes de texto que enviaron en 2018. Tu trabajo es analizar el comportamiento de los clientes y determinar qué tarifa de prepago genera más ingresos."
   ]
  },
  {
   "cell_type": "markdown",
   "metadata": {
    "id": "VNddPNRQ0q0w"
   },
   "source": [
    "[Te proporcionamos algunos comentarios para orientarte mientras completas este proyecto. Pero debes asegurarte de eliminar todos los comentarios entre corchetes antes de entregar tu proyecto.]\n",
    "\n",
    "[Antes de sumergirte en el análisis de datos, explica por tu propia cuenta el propósito del proyecto y las acciones que planeas realizar.]\n",
    "\n",
    "ACTIVIDAD A HACER: realizar un analisis de tarifas basado en una muestra de 500, tendre varios datos de ellos, debo analizar el comportamiento y determinar que tarifa de prepago genera mas ingresos\n",
    "Megaline redondea los segundos a minutos y los megabytes a gigabytes. as sesiones web individuales no se redondean. En vez de esto, el total del mes se redondea hacia arriba\n",
    "\n",
    "\n",
    "[Ten en cuenta que estudiar, modificar y analizar datos es un proceso iterativo. Es normal volver a los pasos anteriores y corregirlos/ampliarlos para permitir nuevos pasos.]"
   ]
  },
  {
   "cell_type": "markdown",
   "metadata": {
    "id": "MQi4IPy70q0y"
   },
   "source": [
    "## Inicialización"
   ]
  },
  {
   "cell_type": "code",
   "execution_count": 1,
   "metadata": {
    "id": "MtYIuBxu0q0z"
   },
   "outputs": [],
   "source": [
    "# Cargar todas las librerías\n",
    "from scipy import stats as st\n",
    "import numpy as np\n",
    "import pandas as pd\n",
    "from matplotlib import pyplot as plt\n",
    "import seaborn as sns"
   ]
  },
  {
   "cell_type": "markdown",
   "metadata": {
    "id": "4ysWWC5i0q00"
   },
   "source": [
    "## Cargar datos"
   ]
  },
  {
   "cell_type": "code",
   "execution_count": 2,
   "metadata": {
    "id": "CCqPW7rS0q01"
   },
   "outputs": [],
   "source": [
    "# Carga los archivos de datos en diferentes DataFrames\n",
    "\n",
    "megaline_calls = pd.read_csv('/datasets/megaline_calls.csv')\n",
    "megaline_internet = pd.read_csv('/datasets/megaline_internet.csv')\n",
    "megaline_messages = pd.read_csv('/datasets/megaline_messages.csv')\n",
    "megaline_plans = pd.read_csv('/datasets/megaline_plans.csv')\n",
    "megaline_users = pd.read_csv('/datasets/megaline_users.csv')\n"
   ]
  },
  {
   "cell_type": "markdown",
   "metadata": {
    "id": "69qqoJ3r0q01"
   },
   "source": [
    "## Preparar los datos"
   ]
  },
  {
   "cell_type": "markdown",
   "metadata": {
    "id": "vUuZw80S0q01"
   },
   "source": [
    "[Los datos para este proyecto se dividen en varias tablas. Explora cada una para tener una comprensión inicial de los datos. Si es necesario, haz las correcciones requeridas en cada tabla.]"
   ]
  },
  {
   "cell_type": "markdown",
   "metadata": {
    "id": "ohBhimvH0q01"
   },
   "source": [
    "## Tarifas"
   ]
  },
  {
   "cell_type": "code",
   "execution_count": 3,
   "metadata": {
    "id": "GptqP3Q40q02"
   },
   "outputs": [
    {
     "name": "stdout",
     "output_type": "stream",
     "text": [
      "<class 'pandas.core.frame.DataFrame'>\n",
      "RangeIndex: 2 entries, 0 to 1\n",
      "Data columns (total 8 columns):\n",
      " #   Column                 Non-Null Count  Dtype  \n",
      "---  ------                 --------------  -----  \n",
      " 0   messages_included      2 non-null      int64  \n",
      " 1   mb_per_month_included  2 non-null      int64  \n",
      " 2   minutes_included       2 non-null      int64  \n",
      " 3   usd_monthly_pay        2 non-null      int64  \n",
      " 4   usd_per_gb             2 non-null      int64  \n",
      " 5   usd_per_message        2 non-null      float64\n",
      " 6   usd_per_minute         2 non-null      float64\n",
      " 7   plan_name              2 non-null      object \n",
      "dtypes: float64(2), int64(5), object(1)\n",
      "memory usage: 256.0+ bytes\n"
     ]
    }
   ],
   "source": [
    "# Imprime la información general/resumida sobre el DataFrame de las tarifas\n",
    "megaline_plans.info()"
   ]
  },
  {
   "cell_type": "code",
   "execution_count": 4,
   "metadata": {
    "id": "64xzjwL70q02"
   },
   "outputs": [
    {
     "name": "stdout",
     "output_type": "stream",
     "text": [
      "   messages_included  mb_per_month_included  minutes_included  \\\n",
      "0                 50                  15360               500   \n",
      "1               1000                  30720              3000   \n",
      "\n",
      "   usd_monthly_pay  usd_per_gb  usd_per_message  usd_per_minute plan_name  \n",
      "0               20          10             0.03            0.03      surf  \n",
      "1               70           7             0.01            0.01  ultimate  \n"
     ]
    }
   ],
   "source": [
    "# Imprime una muestra de los datos para las tarifas\n",
    "print(megaline_plans.head(5))"
   ]
  },
  {
   "cell_type": "markdown",
   "metadata": {
    "id": "mEc_3_hs0q02"
   },
   "source": [
    "[Describe lo que ves y observas en la información general y en la muestra de datos impresa para el precio de datos anterior. ¿Hay algún problema (tipos de datos no adecuados, datos ausentes, etc.) que pudieran necesitar investigación y cambios adicionales? ¿Cómo se puede arreglar?]\n",
    "En este dataframe estamos viendo los planes que se ofrecen, podemos ver que son 2 (del 0 al 1), podemos notar que no hay valores nulos y considero que los tipos de columna son correctos para la informacion que contienen(quiza los precios podrian ponerse en floar si se usan centimos), podemos ver que son 8 columnas todas distintas, como solo son 2 planes no nos interesamos en las pocas filas); el error q ue note es que una columna usa mg y otra gb, deberia usarse solo un tipo de medida"
   ]
  },
  {
   "cell_type": "markdown",
   "metadata": {
    "collapsed": false,
    "id": "R3C05i1l0q03",
    "jupyter": {
     "outputs_hidden": false
    }
   },
   "source": [
    "## Corregir datos"
   ]
  },
  {
   "cell_type": "markdown",
   "metadata": {
    "id": "bIi8StZI0q03"
   },
   "source": [
    "[Corrige los problemas obvios con los datos basándote en las observaciones iniciales.]"
   ]
  },
  {
   "cell_type": "code",
   "execution_count": 5,
   "metadata": {
    "id": "Y7SVmjGn0q03"
   },
   "outputs": [],
   "source": [
    "megaline_plans['gb_per_month_included'] = megaline_plans['mb_per_month_included'] / 1024 #remplazamos a gb, tambien cambia el nombre de la columna\n",
    "megaline_plans['gb_per_month_included'] = megaline_plans['gb_per_month_included'].astype(int)"
   ]
  },
  {
   "cell_type": "markdown",
   "metadata": {
    "id": "LJir7bml0q03"
   },
   "source": [
    "## Enriquecer los datos"
   ]
  },
  {
   "cell_type": "markdown",
   "metadata": {
    "id": "eqADpCfg0q04"
   },
   "source": [
    "[Agrega factores adicionales a los datos si crees que pudieran ser útiles.]"
   ]
  },
  {
   "cell_type": "code",
   "execution_count": null,
   "metadata": {},
   "outputs": [],
   "source": []
  },
  {
   "cell_type": "code",
   "execution_count": 6,
   "metadata": {
    "id": "gfcIEuXV0q04"
   },
   "outputs": [
    {
     "name": "stdout",
     "output_type": "stream",
     "text": [
      "  plan_name  usd_monthly_pay  minutes_included  messages_included  \\\n",
      "0      surf             20.0               500                 50   \n",
      "1  ultimate             70.0              3000               1000   \n",
      "\n",
      "   gb_per_month_included  usd_per_minute  usd_per_message  usd_per_gb  \\\n",
      "0                     15            0.03             0.03        10.0   \n",
      "1                     30            0.01             0.01         7.0   \n",
      "\n",
      "   costo_anual  \n",
      "0        240.0  \n",
      "1        840.0  \n",
      "<class 'pandas.core.frame.DataFrame'>\n",
      "RangeIndex: 137735 entries, 0 to 137734\n",
      "Data columns (total 4 columns):\n",
      " #   Column     Non-Null Count   Dtype  \n",
      "---  ------     --------------   -----  \n",
      " 0   id         137735 non-null  object \n",
      " 1   user_id    137735 non-null  int64  \n",
      " 2   call_date  137735 non-null  object \n",
      " 3   duration   137735 non-null  float64\n",
      "dtypes: float64(1), int64(1), object(2)\n",
      "memory usage: 4.2+ MB\n"
     ]
    }
   ],
   "source": [
    "megaline_plans['usd_monthly_pay'] = megaline_plans['usd_monthly_pay'].astype(float) #pasar columnas de precios a float pos si quiero usar centimos de dolar\n",
    "megaline_plans['usd_per_gb'] = megaline_plans['usd_per_gb'].astype(float)\n",
    "\n",
    "#reordenar filas a una forma mas comprensible\n",
    "megaline_plans = megaline_plans[['plan_name', 'usd_monthly_pay', 'minutes_included', 'messages_included', 'gb_per_month_included', 'usd_per_minute', 'usd_per_message', 'usd_per_gb']]\n",
    "\n",
    "#darle un formato de presentacion\n",
    "megaline_plans.style.format({\n",
    "    ('usd_per_message', 'usd_per_minute', 'usd_per_gb', 'usd_monthly_pay'): \"{:.2f}\"\n",
    "})\n",
    "\n",
    "megaline_plans.style.format({'gb_per_month_included': '{:.0f} GB'})\n",
    "\n",
    "#costo anual\n",
    "megaline_plans['costo_anual'] = megaline_plans['usd_monthly_pay'] * 12\n",
    "print(megaline_plans.head(5))\n",
    "megaline_calls.info()"
   ]
  },
  {
   "cell_type": "markdown",
   "metadata": {},
   "source": [
    "<div class=\"alert alert-block alert-success\">\n",
    "<b>Comentario de Revisor              </b><a class=\"tocSkip\"></a>\n",
    "\n",
    "Bien, correcto. Bien hecho al modificar la unidad del consumo de internet.\n",
    "\n",
    "\n",
    "\n",
    "</div>"
   ]
  },
  {
   "cell_type": "markdown",
   "metadata": {
    "id": "1n2X6WXf0q04"
   },
   "source": [
    "## Usuarios/as"
   ]
  },
  {
   "cell_type": "code",
   "execution_count": 7,
   "metadata": {
    "id": "2NgjWFqx0q05"
   },
   "outputs": [
    {
     "name": "stdout",
     "output_type": "stream",
     "text": [
      "<class 'pandas.core.frame.DataFrame'>\n",
      "RangeIndex: 500 entries, 0 to 499\n",
      "Data columns (total 8 columns):\n",
      " #   Column      Non-Null Count  Dtype \n",
      "---  ------      --------------  ----- \n",
      " 0   user_id     500 non-null    int64 \n",
      " 1   first_name  500 non-null    object\n",
      " 2   last_name   500 non-null    object\n",
      " 3   age         500 non-null    int64 \n",
      " 4   city        500 non-null    object\n",
      " 5   reg_date    500 non-null    object\n",
      " 6   plan        500 non-null    object\n",
      " 7   churn_date  34 non-null     object\n",
      "dtypes: int64(2), object(6)\n",
      "memory usage: 31.4+ KB\n"
     ]
    }
   ],
   "source": [
    "# Imprime la información general/resumida sobre el DataFrame de usuarios\n",
    "megaline_users.info()"
   ]
  },
  {
   "cell_type": "code",
   "execution_count": 8,
   "metadata": {
    "id": "1IN1L9uh0q05"
   },
   "outputs": [
    {
     "name": "stdout",
     "output_type": "stream",
     "text": [
      "     user_id first_name last_name  age  \\\n",
      "481     1481       Roni      Frye   32   \n",
      "69      1069       Dino       Fry   31   \n",
      "213     1213       Carl    Newman   47   \n",
      "273     1273    Hermila      Ryan   25   \n",
      "51      1051    Rosario     Gibbs   55   \n",
      "\n",
      "                                         city    reg_date      plan churn_date  \n",
      "481                    Urban Honolulu, HI MSA  2018-12-27      surf        NaN  \n",
      "69   Houston-The Woodlands-Sugar Land, TX MSA  2018-09-17  ultimate        NaN  \n",
      "213    San Diego-Chula Vista-Carlsbad, CA MSA  2018-11-25  ultimate        NaN  \n",
      "273                       Baton Rouge, LA MSA  2018-10-13  ultimate        NaN  \n",
      "51     San Diego-Chula Vista-Carlsbad, CA MSA  2018-12-11      surf        NaN  \n"
     ]
    }
   ],
   "source": [
    "# Imprime una muestra de datos para usuarios\n",
    "print(megaline_users.sample(5))"
   ]
  },
  {
   "cell_type": "markdown",
   "metadata": {
    "id": "dCZoUq4f0q06"
   },
   "source": [
    "[Describe lo que ves y observas en la información general y en la muestra de datos impresa para el precio de datos anterior. ¿Hay algún problema (tipos de datos no adecuados, datos ausentes, etc.) que pudieran necesitar investigación y cambios adicionales? ¿Cómo se puede arreglar?]\n",
    "primero podemos notar que el dataframe contiene 500 filas (del 0 al 499), con un total de 8 columnas, las primeras 3 columnas estan correctas en tipo de dato y no presentan datos ausentes, tengo mis dudas si edad es necesario usar int ya que no se ocuparia para operaciones matematicas, pero es correcto y no lleva ausentes, lo unico que puede causar problemas es que loa fecha no esta en el formato date sino en string, esto podria ser un posible problema. considero que en la fila donde hay valores ausentes, es correcto ya que este solo se le asigna a usuarios que ya no contratan el plan(la minoria), si se decide conservar el tipo object en las fechas recomiento un valor mas optimo en los ausentes como \"no cancelado\", replantear si el nombre de las ciudades debe ser asi de largo o separase por columnas, podriamos usar category en plan en lugar de repetir contantemente las unicas 2 opciones"
   ]
  },
  {
   "cell_type": "markdown",
   "metadata": {
    "id": "BX5FQh_I0q06"
   },
   "source": [
    "### Corregir los datos"
   ]
  },
  {
   "cell_type": "markdown",
   "metadata": {
    "id": "8OdKMwJv0q06"
   },
   "source": [
    "[Corrige los problemas obvios con los datos basándote en las observaciones iniciales.]"
   ]
  },
  {
   "cell_type": "code",
   "execution_count": 9,
   "metadata": {
    "id": "yUqX-K0C0q07"
   },
   "outputs": [],
   "source": [
    "#pasar las fechas al formato date\n",
    "megaline_users['reg_date'] = pd.to_datetime(megaline_users['reg_date'], format=\"%Y-%m-%d\")\n",
    "megaline_users['churn_date'] = pd.to_datetime(megaline_users['churn_date'], format=\"%Y-%m-%d\")#los nan pasaran a nat"
   ]
  },
  {
   "cell_type": "markdown",
   "metadata": {},
   "source": [
    "<div class=\"alert alert-block alert-danger\">\n",
    "<b>Comentario de Revisor     v2     </b> <a class=\"tocSkip\"></a>\n",
    "\n",
    "\n",
    "Aquí también elimina el uso de category\n",
    "\n",
    "\n",
    "</div>"
   ]
  },
  {
   "cell_type": "markdown",
   "metadata": {
    "id": "ycwuARJp0q07"
   },
   "source": [
    "### Enriquecer los datos"
   ]
  },
  {
   "cell_type": "markdown",
   "metadata": {
    "id": "96NIh4CJ0q08"
   },
   "source": [
    "[Agrega factores adicionales a los datos si crees que pudieran ser útiles.]"
   ]
  },
  {
   "cell_type": "code",
   "execution_count": 10,
   "metadata": {
    "id": "iq0AaBS90q08"
   },
   "outputs": [
    {
     "name": "stdout",
     "output_type": "stream",
     "text": [
      "   user_id first_name  last_name  age                           city  \\\n",
      "0     1000   Anamaria      Bauer   45  Atlanta-Sandy Springs-Roswell   \n",
      "1     1001     Mickey  Wilkerson   28        Seattle-Tacoma-Bellevue   \n",
      "2     1002     Carlee    Hoffman   36   Las Vegas-Henderson-Paradise   \n",
      "3     1003   Reynaldo    Jenkins   52                          Tulsa   \n",
      "4     1004    Leonila   Thompson   40        Seattle-Tacoma-Bellevue   \n",
      "\n",
      "    reg_date      plan churn_date   state  reg_year  reg_month  reg_day  \\\n",
      "0 2018-12-24  ultimate        NaT  GA MSA      2018         12       24   \n",
      "1 2018-08-13      surf        NaT  WA MSA      2018          8       13   \n",
      "2 2018-10-21      surf        NaT  NV MSA      2018         10       21   \n",
      "3 2018-01-28      surf        NaT  OK MSA      2018          1       28   \n",
      "4 2018-05-23      surf        NaT  WA MSA      2018          5       23   \n",
      "\n",
      "     weekday  is_active  \n",
      "0     Monday       True  \n",
      "1     Monday       True  \n",
      "2     Sunday       True  \n",
      "3     Sunday       True  \n",
      "4  Wednesday       True  \n"
     ]
    }
   ],
   "source": [
    "\n",
    "#separar ciudad y estado, creando una columna nueva para este\n",
    "megaline_users[['city', 'state']] = megaline_users['city'].str.split(',', expand=True)\n",
    "\n",
    "megaline_users['city'] = megaline_users['city'].str.strip()\n",
    "megaline_users['state'] = megaline_users['state'].str.strip()\n",
    "\n",
    "#obtener la fecha separada \n",
    "megaline_users['reg_year'] = megaline_users['reg_date'].dt.year\n",
    "megaline_users['reg_month'] = megaline_users['reg_date'].dt.month\n",
    "megaline_users['reg_day'] = megaline_users['reg_date'].dt.day\n",
    "megaline_users['weekday'] = megaline_users['reg_date'].dt.day_name()\n",
    "\n",
    "#usuarios activos, si es false es que tiene fecha y su servicio ya termino\n",
    "megaline_users['is_active'] = megaline_users['churn_date'].isna()\n",
    "print(megaline_users.head())\n"
   ]
  },
  {
   "cell_type": "code",
   "execution_count": 11,
   "metadata": {},
   "outputs": [
    {
     "name": "stdout",
     "output_type": "stream",
     "text": [
      "     user_id first_name  last_name  age  \\\n",
      "116     1116     Moriah      Yates   60   \n",
      "248     1248     Leigha     Dawson   35   \n",
      "257     1257    Gabriel  O'donnell   61   \n",
      "6       1006     Jesusa   Bradford   73   \n",
      "141     1141    Kirstie     Hodges   46   \n",
      "\n",
      "                                         city   reg_date      plan churn_date  \\\n",
      "116                                Cincinnati 2018-08-08      surf        NaT   \n",
      "248  Nashville-Davidson–Murfreesboro–Franklin 2018-11-01      surf        NaT   \n",
      "257               New York-Newark-Jersey City 2018-01-29      surf        NaT   \n",
      "6              San Francisco-Oakland-Berkeley 2018-11-27  ultimate 2018-12-18   \n",
      "141               New York-Newark-Jersey City 2018-06-26      surf        NaT   \n",
      "\n",
      "            state  reg_year  reg_month  reg_day    weekday  is_active  \n",
      "116  OH-KY-IN MSA      2018          8        8  Wednesday       True  \n",
      "248        TN MSA      2018         11        1   Thursday       True  \n",
      "257  NY-NJ-PA MSA      2018          1       29     Monday       True  \n",
      "6          CA MSA      2018         11       27    Tuesday      False  \n",
      "141  NY-NJ-PA MSA      2018          6       26    Tuesday       True  \n",
      "<class 'pandas.core.frame.DataFrame'>\n",
      "RangeIndex: 137735 entries, 0 to 137734\n",
      "Data columns (total 4 columns):\n",
      " #   Column     Non-Null Count   Dtype  \n",
      "---  ------     --------------   -----  \n",
      " 0   id         137735 non-null  object \n",
      " 1   user_id    137735 non-null  int64  \n",
      " 2   call_date  137735 non-null  object \n",
      " 3   duration   137735 non-null  float64\n",
      "dtypes: float64(1), int64(1), object(2)\n",
      "memory usage: 4.2+ MB\n"
     ]
    }
   ],
   "source": [
    "print(megaline_users.sample(5))\n",
    "megaline_calls.info()"
   ]
  },
  {
   "cell_type": "markdown",
   "metadata": {},
   "source": [
    "<div class=\"alert alert-block alert-success\">\n",
    "<b>Comentario de Revisor              </b><a class=\"tocSkip\"></a>\n",
    "\n",
    "Muy bien, correcta esta parte de los usuarios.\n",
    "\n",
    "\n",
    "\n",
    "\n",
    "\n",
    "</div>"
   ]
  },
  {
   "cell_type": "markdown",
   "metadata": {
    "id": "o7MeKCid0q08"
   },
   "source": [
    "## Llamadas"
   ]
  },
  {
   "cell_type": "code",
   "execution_count": 12,
   "metadata": {
    "id": "6dDlnoDm0q08"
   },
   "outputs": [
    {
     "name": "stdout",
     "output_type": "stream",
     "text": [
      "<class 'pandas.core.frame.DataFrame'>\n",
      "RangeIndex: 137735 entries, 0 to 137734\n",
      "Data columns (total 4 columns):\n",
      " #   Column     Non-Null Count   Dtype  \n",
      "---  ------     --------------   -----  \n",
      " 0   id         137735 non-null  object \n",
      " 1   user_id    137735 non-null  int64  \n",
      " 2   call_date  137735 non-null  object \n",
      " 3   duration   137735 non-null  float64\n",
      "dtypes: float64(1), int64(1), object(2)\n",
      "memory usage: 4.2+ MB\n"
     ]
    }
   ],
   "source": [
    "# Imprime la información general/resumida sobre el DataFrame de las llamadas\n",
    "megaline_calls.info()"
   ]
  },
  {
   "cell_type": "code",
   "execution_count": 13,
   "metadata": {
    "id": "kuh1vlNB0q09"
   },
   "outputs": [
    {
     "name": "stdout",
     "output_type": "stream",
     "text": [
      "              id  user_id   call_date  duration\n",
      "27710   1105_261     1105  2018-11-27      3.86\n",
      "49756   1180_221     1180  2018-12-20     17.02\n",
      "13772   1058_391     1058  2018-12-15      5.88\n",
      "135926   1493_88     1493  2018-10-05     17.11\n",
      "45378    1164_77     1164  2018-05-23      4.10\n"
     ]
    }
   ],
   "source": [
    "# Imprime una muestra de datos para las llamadas\n",
    "print(megaline_calls.sample(5))"
   ]
  },
  {
   "cell_type": "markdown",
   "metadata": {
    "id": "DOAxYJSx0q09"
   },
   "source": [
    "[Describe lo que ves y observas en la información general y en la muestra de datos impresa para el precio de datos anterior. ¿Hay algún problema (tipos de datos no adecuados, datos ausentes, etc.) que pudieran necesitar investigación y cambios adicionales? ¿Cómo se puede arreglar?]\n",
    "tenemos un total de 13725 filas, teniendo 4 columnas, id no tiene nulos y es tipo objecto, ya revisando con la impresion podemos ver esto porque contiene un _ entonces es necesario tomarlo como cadena, el user id es correcto y no contiene valores nulos, la fecha no contiene valores nulos pero el tipo de dato no es el adecuado, la duracion esta correcta y estas se supone que se deben redondaral numero mas cercano hacia arriba.\n",
    "En resumen, no hay valores nulos, pero si hay posibles cambios en los tipos de datos"
   ]
  },
  {
   "cell_type": "markdown",
   "metadata": {
    "id": "S7hzxmbX0q0-"
   },
   "source": [
    "### Corregir los datos"
   ]
  },
  {
   "cell_type": "markdown",
   "metadata": {
    "id": "YxWyAjD20q0-"
   },
   "source": [
    "[Corrige los problemas obvios con los datos basándote en las observaciones iniciales.]"
   ]
  },
  {
   "cell_type": "code",
   "execution_count": 14,
   "metadata": {
    "id": "S2r8xA4f0q0-"
   },
   "outputs": [
    {
     "name": "stdout",
     "output_type": "stream",
     "text": [
      "True\n"
     ]
    },
    {
     "data": {
      "text/plain": [
       "count    137735.000000\n",
       "mean          6.745927\n",
       "std           5.839241\n",
       "min           0.000000\n",
       "25%           1.290000\n",
       "50%           5.980000\n",
       "75%          10.690000\n",
       "max          37.600000\n",
       "Name: duration, dtype: float64"
      ]
     },
     "execution_count": 14,
     "metadata": {},
     "output_type": "execute_result"
    }
   ],
   "source": [
    "#de object a datetime\n",
    "megaline_calls['call_date'] = pd.to_datetime(megaline_calls['call_date'], format=\"%Y-%m-%d\")\n",
    "\n",
    "#verificar si id es unico y por eso es un tipo object\n",
    "print(megaline_calls['id'].nunique() == len(megaline_calls))\n",
    "\n",
    "#revisar los valores para ver si hay negativos o muchos decimales\n",
    "megaline_calls['duration'].describe()"
   ]
  },
  {
   "cell_type": "markdown",
   "metadata": {},
   "source": [
    "<div class=\"alert alert-block alert-warning\">\n",
    "<b>Comentario de Revisor          </b> <a class=\"tocSkip\"></a>\n",
    "\n",
    "Ojo con usar `.astype('category')` sobre la columna user_id, esto causa que al agrupar el dataframe por la columna user_id, se genera data que no existe. Por ejemplo, si agrupas en las llamadas por mes y usuario, verás que aparecen meses donde el usuario no tuvo consumo. Esto no está mal necesariamente, pero al momento del cálculo del revenue puede causar problemas con generar consumo inexistente. Pongasmo un ejemplo de un usuario que entró en diciembre, al hacer esta agrupación, en el resultado se verá con consumo para todos los meses desde enero a diciembre, con 0 excepto para diciembre. Luego, en el cálculo del revenue, se asumirá que tuvo el plan contratado en los doce meses, y se le cobró el mínimo (ya que no tuvo consumo). Sin embargo, sabemos que no es así, porque recién contrató el servicio en diciembre, es decir, se calcula mal el revenue de enero a noviembre.\n",
    "\n",
    "Por ello, te recomiendo que borres esa línea de `megaline_calls['user_id'] = megaline_calls['user_id'].astype('category')`, para este y todos los consumos.\n",
    "\n",
    "\n",
    "Si quieres comprobar lo que menciono, compara estos dos códigos (en ellos se calcula el consumo de llamadas mensual para el usuario 1000):\n",
    "\n",
    "```python\n",
    "# Aquí se usa category\n",
    "megaline_calls = pd.read_csv('/datasets/megaline_calls.csv')\n",
    "megaline_calls['call_date'] = pd.to_datetime(megaline_calls['call_date'], format=\"%Y-%m-%d\")\n",
    "megaline_calls['call_month'] = megaline_calls['call_date'].dt.month\n",
    "megaline_calls['duration'] = np.ceil(megaline_calls['duration'])\n",
    "megaline_calls['user_id'] = megaline_calls['user_id'].astype('category')\n",
    "megaline_calls.groupby(['call_month','user_id']).duration.sum().reset_index().query('user_id==1000')\n",
    "```\n",
    "con este\n",
    "\n",
    "```python\n",
    "# Aquí no se usa category\n",
    "megaline_calls = pd.read_csv('/datasets/megaline_calls.csv')\n",
    "megaline_calls['call_date'] = pd.to_datetime(megaline_calls['call_date'], format=\"%Y-%m-%d\")\n",
    "megaline_calls['call_month'] = megaline_calls['call_date'].dt.month\n",
    "megaline_calls['duration'] = np.ceil(megaline_calls['duration'])\n",
    "megaline_calls.groupby(['call_month','user_id']).duration.sum().reset_index().query('user_id==1000')\n",
    "```\n",
    "\n",
    "</div>"
   ]
  },
  {
   "cell_type": "markdown",
   "metadata": {},
   "source": [
    "<div class=\"alert alert-block alert-success\">\n",
    "<b>Comentario de Revisor    v2      </b> <a class=\"tocSkip\"></a>\n",
    "\n",
    "Muy bien, corregido\n",
    "\n",
    "\n",
    "\n",
    "</div>"
   ]
  },
  {
   "cell_type": "markdown",
   "metadata": {
    "id": "KrMgTrlG0q0_"
   },
   "source": [
    "### Enriquecer los datos"
   ]
  },
  {
   "cell_type": "markdown",
   "metadata": {
    "id": "a9MbmEvE0q0_"
   },
   "source": [
    "[Agrega factores adicionales a los datos si crees que pudieran ser útiles.]"
   ]
  },
  {
   "cell_type": "code",
   "execution_count": 15,
   "metadata": {
    "id": "iZ1avpA_0q0_"
   },
   "outputs": [],
   "source": [
    "#obtener la fecha en partes\n",
    "megaline_calls['call_year'] = megaline_calls['call_date'].dt.year\n",
    "megaline_calls['call_month'] = megaline_calls['call_date'].dt.month\n",
    "megaline_calls['call_day'] = megaline_calls['call_date'].dt.day\n",
    "megaline_calls['weekday'] = megaline_calls['call_date'].dt.day_name()\n",
    "\n",
    "#redondear los minutos al numero arriba mas cercano, le pregunte a la ia porque yo pense en usar round que no servia\n",
    "megaline_calls['duration'] = np.ceil(megaline_calls['duration'])\n",
    "\n"
   ]
  },
  {
   "cell_type": "code",
   "execution_count": 16,
   "metadata": {},
   "outputs": [
    {
     "name": "stdout",
     "output_type": "stream",
     "text": [
      "              id  user_id  call_date  duration  call_year  call_month  \\\n",
      "126121  1446_381     1446 2018-09-22       0.0       2018           9   \n",
      "24089   1090_269     1090 2018-10-16       5.0       2018          10   \n",
      "48842   1175_635     1175 2018-12-26       3.0       2018          12   \n",
      "100164   1359_24     1359 2018-08-25       0.0       2018           8   \n",
      "30696   1114_671     1114 2018-08-13      13.0       2018           8   \n",
      "\n",
      "        call_day    weekday  \n",
      "126121        22   Saturday  \n",
      "24089         16    Tuesday  \n",
      "48842         26  Wednesday  \n",
      "100164        25   Saturday  \n",
      "30696         13     Monday  \n",
      "<class 'pandas.core.frame.DataFrame'>\n",
      "RangeIndex: 137735 entries, 0 to 137734\n",
      "Data columns (total 8 columns):\n",
      " #   Column      Non-Null Count   Dtype         \n",
      "---  ------      --------------   -----         \n",
      " 0   id          137735 non-null  object        \n",
      " 1   user_id     137735 non-null  int64         \n",
      " 2   call_date   137735 non-null  datetime64[ns]\n",
      " 3   duration    137735 non-null  float64       \n",
      " 4   call_year   137735 non-null  int64         \n",
      " 5   call_month  137735 non-null  int64         \n",
      " 6   call_day    137735 non-null  int64         \n",
      " 7   weekday     137735 non-null  object        \n",
      "dtypes: datetime64[ns](1), float64(1), int64(4), object(2)\n",
      "memory usage: 8.4+ MB\n"
     ]
    }
   ],
   "source": [
    "print(megaline_calls.sample(5))\n",
    "megaline_calls.info()"
   ]
  },
  {
   "cell_type": "markdown",
   "metadata": {},
   "source": [
    "<div class=\"alert alert-block alert-success\">\n",
    "<b>Comentario de Revisor            </b> <a class=\"tocSkip\"></a>\n",
    "\n",
    "Bien hecho, la conversión de la duración a duración que se factura está correcta\n",
    "\n",
    "</div>"
   ]
  },
  {
   "cell_type": "markdown",
   "metadata": {
    "id": "mOUZSi180q0_"
   },
   "source": [
    "## Mensajes"
   ]
  },
  {
   "cell_type": "code",
   "execution_count": 17,
   "metadata": {
    "id": "R-bYJpdV0q1A"
   },
   "outputs": [
    {
     "name": "stdout",
     "output_type": "stream",
     "text": [
      "<class 'pandas.core.frame.DataFrame'>\n",
      "RangeIndex: 76051 entries, 0 to 76050\n",
      "Data columns (total 3 columns):\n",
      " #   Column        Non-Null Count  Dtype \n",
      "---  ------        --------------  ----- \n",
      " 0   id            76051 non-null  object\n",
      " 1   user_id       76051 non-null  int64 \n",
      " 2   message_date  76051 non-null  object\n",
      "dtypes: int64(1), object(2)\n",
      "memory usage: 1.7+ MB\n"
     ]
    }
   ],
   "source": [
    "# Imprime la información general/resumida sobre el DataFrame de los mensajes\n",
    "megaline_messages.info()"
   ]
  },
  {
   "cell_type": "code",
   "execution_count": 18,
   "metadata": {
    "id": "mCEl2iGE0q1A"
   },
   "outputs": [
    {
     "name": "stdout",
     "output_type": "stream",
     "text": [
      "             id  user_id message_date\n",
      "72857  1470_485     1470   2018-06-06\n",
      "26759    1164_9     1164   2018-06-12\n",
      "26449  1159_452     1159   2018-09-02\n",
      "22654   1134_72     1134   2018-11-27\n",
      "22930  1137_384     1137   2018-10-15\n"
     ]
    }
   ],
   "source": [
    "# Imprime una muestra de datos para los mensajes\n",
    "print(megaline_messages.sample(5))"
   ]
  },
  {
   "cell_type": "markdown",
   "metadata": {
    "id": "04xDj7KH0q1A"
   },
   "source": [
    "[Describe lo que ves y observas en la información general y en la muestra de datos impresa para el precio de datos anterior. ¿Hay algún problema (tipos de datos no adecuados, datos ausentes, etc.) que pudieran necesitar investigación y cambios adicionales? ¿Cómo se puede arreglar?]\n",
    "podemos ver que solo son 3 columnas, todas tienen valores iguales a 76051 que es el total de filas (no nulos), podemos ver que el id es object como en el anterior, debemos comprobar si cada id es unico, el id user es correcto con ese tipo de dato, el unico incorrecto aca es el tipo de dato de la fecha, este debe ser datatime"
   ]
  },
  {
   "cell_type": "markdown",
   "metadata": {
    "id": "Sprfak900q1B"
   },
   "source": [
    "### Corregir los datos"
   ]
  },
  {
   "cell_type": "markdown",
   "metadata": {
    "id": "eGw7d9j10q1B"
   },
   "source": [
    "[Corrige los problemas obvios con los datos basándote en las observaciones iniciales.]"
   ]
  },
  {
   "cell_type": "code",
   "execution_count": 19,
   "metadata": {
    "id": "vsllvkoa0q1B"
   },
   "outputs": [
    {
     "name": "stdout",
     "output_type": "stream",
     "text": [
      "True\n",
      "id              0\n",
      "user_id         0\n",
      "message_date    0\n",
      "dtype: int64\n"
     ]
    }
   ],
   "source": [
    "#verificar si id es unico y por eso es un tipo object\n",
    "print(megaline_messages['id'].nunique() == len(megaline_messages))\n",
    "\n",
    "#de object a datetime\n",
    "megaline_messages['message_date'] = pd.to_datetime(megaline_messages['message_date'], format=\"%Y-%m-%d\")\n",
    "\n",
    "#verificar nulos\n",
    "print(megaline_messages.isna().sum())"
   ]
  },
  {
   "cell_type": "markdown",
   "metadata": {},
   "source": [
    "<div class=\"alert alert-block alert-danger\">\n",
    "<b>Comentario de Revisor      v2    </b> <a class=\"tocSkip\"></a>\n",
    "\n",
    "Ojo que aquí también usaste category, deberías borrarlo.\n",
    "\n",
    "\n",
    "\n",
    "</div>"
   ]
  },
  {
   "cell_type": "markdown",
   "metadata": {
    "id": "HvLid7iD0q1B"
   },
   "source": [
    "### Enriquecer los datos"
   ]
  },
  {
   "cell_type": "markdown",
   "metadata": {
    "id": "8nhPFKIe0q1C"
   },
   "source": [
    "[Agrega factores adicionales a los datos si crees que pudieran ser útiles.]"
   ]
  },
  {
   "cell_type": "code",
   "execution_count": 20,
   "metadata": {
    "id": "zYEXZac10q1C"
   },
   "outputs": [],
   "source": [
    "#obtener la fecha en partes\n",
    "megaline_messages['message_year'] = megaline_messages['message_date'].dt.year\n",
    "megaline_messages['message_month'] = megaline_messages['message_date'].dt.month\n",
    "megaline_messages['message_day'] = megaline_messages['message_date'].dt.day\n",
    "megaline_messages['weekday'] = megaline_messages['message_date'].dt.day_name()"
   ]
  },
  {
   "cell_type": "code",
   "execution_count": 21,
   "metadata": {},
   "outputs": [
    {
     "name": "stdout",
     "output_type": "stream",
     "text": [
      "             id  user_id message_date  message_year  message_month  \\\n",
      "19252  1124_139     1124   2018-12-16          2018             12   \n",
      "72385   1470_13     1470   2018-08-09          2018              8   \n",
      "54817  1346_326     1346   2018-06-08          2018              6   \n",
      "5482   1052_239     1052   2018-12-31          2018             12   \n",
      "45325  1304_417     1304   2018-12-08          2018             12   \n",
      "\n",
      "       message_day   weekday  \n",
      "19252           16    Sunday  \n",
      "72385            9  Thursday  \n",
      "54817            8    Friday  \n",
      "5482            31    Monday  \n",
      "45325            8  Saturday  \n",
      "<class 'pandas.core.frame.DataFrame'>\n",
      "RangeIndex: 76051 entries, 0 to 76050\n",
      "Data columns (total 7 columns):\n",
      " #   Column         Non-Null Count  Dtype         \n",
      "---  ------         --------------  -----         \n",
      " 0   id             76051 non-null  object        \n",
      " 1   user_id        76051 non-null  int64         \n",
      " 2   message_date   76051 non-null  datetime64[ns]\n",
      " 3   message_year   76051 non-null  int64         \n",
      " 4   message_month  76051 non-null  int64         \n",
      " 5   message_day    76051 non-null  int64         \n",
      " 6   weekday        76051 non-null  object        \n",
      "dtypes: datetime64[ns](1), int64(4), object(2)\n",
      "memory usage: 4.1+ MB\n"
     ]
    }
   ],
   "source": [
    "print(megaline_messages.sample(5))\n",
    "megaline_messages.info()"
   ]
  },
  {
   "cell_type": "markdown",
   "metadata": {},
   "source": [
    "<div class=\"alert alert-block alert-success\">\n",
    "<b>Comentario de Revisor          </b> <a class=\"tocSkip\"></a>\n",
    "\n",
    "Muy bien con las modificaciones, bien hecho con la conversión a tipo fecha y la obtención del mes.\n",
    "\n",
    "\n",
    "\n",
    "</div>"
   ]
  },
  {
   "cell_type": "markdown",
   "metadata": {
    "id": "bStkaxn40q1C"
   },
   "source": [
    "## Internet"
   ]
  },
  {
   "cell_type": "code",
   "execution_count": 22,
   "metadata": {
    "id": "e-Uz5qyn0q1C"
   },
   "outputs": [
    {
     "name": "stdout",
     "output_type": "stream",
     "text": [
      "<class 'pandas.core.frame.DataFrame'>\n",
      "RangeIndex: 104825 entries, 0 to 104824\n",
      "Data columns (total 4 columns):\n",
      " #   Column        Non-Null Count   Dtype  \n",
      "---  ------        --------------   -----  \n",
      " 0   id            104825 non-null  object \n",
      " 1   user_id       104825 non-null  int64  \n",
      " 2   session_date  104825 non-null  object \n",
      " 3   mb_used       104825 non-null  float64\n",
      "dtypes: float64(1), int64(1), object(2)\n",
      "memory usage: 3.2+ MB\n"
     ]
    }
   ],
   "source": [
    "# Imprime la información general/resumida sobre el DataFrame de internet\n",
    "megaline_internet.info()"
   ]
  },
  {
   "cell_type": "code",
   "execution_count": 23,
   "metadata": {
    "id": "9r3x_XLw0q1C"
   },
   "outputs": [
    {
     "name": "stdout",
     "output_type": "stream",
     "text": [
      "              id  user_id session_date  mb_used\n",
      "64936   1299_224     1299   2018-04-04   116.23\n",
      "78695   1367_238     1367   2018-12-08   132.31\n",
      "80074   1374_150     1374   2018-12-20     0.00\n",
      "100191  1474_545     1474   2018-11-15     0.00\n",
      "70796    1331_47     1331   2018-09-14   211.22\n"
     ]
    }
   ],
   "source": [
    "# Imprime una muestra de datos para el tráfico de internet\n",
    "print(megaline_internet.sample(5))"
   ]
  },
  {
   "cell_type": "markdown",
   "metadata": {
    "id": "EzOG5ik30q1D"
   },
   "source": [
    "[Describe lo que ves y observas en la información general y en la muestra de datos impresa para el precio de datos anterior. ¿Hay algún problema (tipos de datos no adecuados, datos ausentes, etc.) que pudieran necesitar investigación y cambios adicionales? ¿Cómo se puede arreglar?]\n",
    "no se contienen valores nulos en ninguna columna, solo se tiene 4 columnas, comprobemos nuevamente si el id es unico, volvamos la fecha a tipo datatime y redondemos los mb al numero arriba mas alto, despues para cada usuario lo sumamos, lo volvemos a gb y redondeamos "
   ]
  },
  {
   "cell_type": "markdown",
   "metadata": {
    "id": "yA0tkPFg0q1D"
   },
   "source": [
    "### Corregir los datos"
   ]
  },
  {
   "cell_type": "markdown",
   "metadata": {
    "id": "zlZMuIEK0q1D"
   },
   "source": [
    "[Corrige los problemas obvios con los datos basándote en las observaciones iniciales.]"
   ]
  },
  {
   "cell_type": "code",
   "execution_count": 24,
   "metadata": {
    "id": "zVeanzdd0q1E"
   },
   "outputs": [
    {
     "name": "stdout",
     "output_type": "stream",
     "text": [
      "True\n"
     ]
    }
   ],
   "source": [
    "#verificar si id es unico y por eso es un tipo object\n",
    "print(megaline_internet['id'].nunique() == len(megaline_internet))\n",
    "\n",
    "#de object a datetime\n",
    "megaline_internet['session_date'] = pd.to_datetime(megaline_internet['session_date'], format=\"%Y-%m-%d\")"
   ]
  },
  {
   "cell_type": "markdown",
   "metadata": {},
   "source": [
    "<div class=\"alert alert-block alert-danger\">\n",
    "<b>Comentario de Revisor      v2    </b> <a class=\"tocSkip\"></a>\n",
    "\n",
    "Ojo que aquí también usaste category, deberías borrarlo.\n",
    "\n",
    "\n",
    "\n",
    "</div>"
   ]
  },
  {
   "cell_type": "markdown",
   "metadata": {
    "id": "e8_mLF4a0q1E"
   },
   "source": [
    "### Enriquecer los datos"
   ]
  },
  {
   "cell_type": "markdown",
   "metadata": {
    "id": "xhNdn2tE0q1E"
   },
   "source": [
    "[Agrega factores adicionales a los datos si crees que pudieran ser útiles.]"
   ]
  },
  {
   "cell_type": "code",
   "execution_count": 25,
   "metadata": {
    "id": "ESiYPIEK0q1E"
   },
   "outputs": [
    {
     "name": "stdout",
     "output_type": "stream",
     "text": [
      "0         2018-12\n",
      "1         2018-12\n",
      "2         2018-12\n",
      "3         2018-12\n",
      "4         2018-12\n",
      "           ...   \n",
      "104820    2018-10\n",
      "104821    2018-12\n",
      "104822    2018-09\n",
      "104823    2018-12\n",
      "104824    2018-12\n",
      "Name: session_month, Length: 104825, dtype: period[M]\n"
     ]
    }
   ],
   "source": [
    "#obtener la fecha en partes\n",
    "megaline_internet['session_year'] = megaline_internet['session_date'].dt.year\n",
    "megaline_internet['session_month'] = megaline_internet['session_date'].dt.month\n",
    "megaline_internet['session_day'] = megaline_internet['session_date'].dt.day\n",
    "megaline_internet['weekday'] = megaline_internet['session_date'].dt.day_name()\n",
    "\n",
    "#creamos una columna por meses\n",
    "megaline_internet['session_month'] = megaline_internet['session_date'].dt.to_period('M') #esta funcion agrupa por fechas, en este caso meses\n",
    "print(megaline_internet['session_month'])\n",
    "\n",
    "#agrupamos por usuario y los meses, luego la columna de mb la sumamos para cada usuario y mes, reseteamos index\n",
    "user_monthly_usage = (\n",
    "    megaline_internet\n",
    "    .groupby(['user_id', 'session_month'])['mb_used']\n",
    "    .sum()\n",
    "    .reset_index()\n",
    ")\n",
    "\n",
    "# convertirmos a mg y redondeamos usando diferentes columnas para ver los cambios\n",
    "user_monthly_usage['gb_used'] = user_monthly_usage['mb_used'] / 1024\n",
    "user_monthly_usage['gb_used_ceil'] = np.ceil(user_monthly_usage['gb_used'])"
   ]
  },
  {
   "cell_type": "code",
   "execution_count": 26,
   "metadata": {},
   "outputs": [
    {
     "name": "stdout",
     "output_type": "stream",
     "text": [
      "             id  user_id session_date  mb_used  session_year session_month  \\\n",
      "5672   1031_241     1031   2018-10-03   413.76          2018       2018-10   \n",
      "16637   1075_70     1075   2018-11-23   417.30          2018       2018-11   \n",
      "73876  1346_463     1346   2018-06-26   350.70          2018       2018-06   \n",
      "96566   1454_22     1454   2018-12-11   703.05          2018       2018-12   \n",
      "71705  1334_273     1334   2018-09-05   810.36          2018       2018-09   \n",
      "\n",
      "       session_day    weekday  \n",
      "5672             3  Wednesday  \n",
      "16637           23     Friday  \n",
      "73876           26    Tuesday  \n",
      "96566           11    Tuesday  \n",
      "71705            5  Wednesday  \n",
      "--------------\n",
      "      user_id session_month   mb_used    gb_used  gb_used_ceil\n",
      "860      1181       2018-04   7969.98   7.783184           8.0\n",
      "46       1011       2018-06   6685.11   6.528428           7.0\n",
      "1553     1336       2018-10  19156.29  18.707314          19.0\n",
      "2218     1488       2018-12  19805.73  19.341533          20.0\n",
      "1888     1405       2018-09  17472.55  17.063037          18.0\n",
      "--------------\n",
      "<class 'pandas.core.frame.DataFrame'>\n",
      "RangeIndex: 76051 entries, 0 to 76050\n",
      "Data columns (total 7 columns):\n",
      " #   Column         Non-Null Count  Dtype         \n",
      "---  ------         --------------  -----         \n",
      " 0   id             76051 non-null  object        \n",
      " 1   user_id        76051 non-null  int64         \n",
      " 2   message_date   76051 non-null  datetime64[ns]\n",
      " 3   message_year   76051 non-null  int64         \n",
      " 4   message_month  76051 non-null  int64         \n",
      " 5   message_day    76051 non-null  int64         \n",
      " 6   weekday        76051 non-null  object        \n",
      "dtypes: datetime64[ns](1), int64(4), object(2)\n",
      "memory usage: 4.1+ MB\n"
     ]
    }
   ],
   "source": [
    "print(megaline_internet.sample(5))\n",
    "print('--------------')\n",
    "print(user_monthly_usage.sample(5))\n",
    "print('--------------')\n",
    "megaline_messages.info()"
   ]
  },
  {
   "cell_type": "markdown",
   "metadata": {},
   "source": [
    "<div class=\"alert alert-block alert-success\">\n",
    "<b>Comentario de Revisor              </b><a class=\"tocSkip\"></a>\n",
    "\n",
    "\n",
    "Bien con la obtención del mes, pero la agrupación y suma no era necesaria en esta parte.\n",
    "\n",
    "\n",
    "</div>"
   ]
  },
  {
   "cell_type": "markdown",
   "metadata": {
    "id": "3UA2cqIW0q1E"
   },
   "source": [
    "## Estudiar las condiciones de las tarifas"
   ]
  },
  {
   "cell_type": "markdown",
   "metadata": {
    "id": "T86Sqltq0q1F"
   },
   "source": [
    "[Es sumamente importante entender cómo funcionan las tarifas, cómo se les cobra a los usuarios en función de su plan de suscripción. Así que te sugerimos imprimir la información de la tarifa para ver una vez más sus condiciones.]"
   ]
  },
  {
   "cell_type": "code",
   "execution_count": 27,
   "metadata": {
    "id": "i409op8p0q1F"
   },
   "outputs": [
    {
     "name": "stdout",
     "output_type": "stream",
     "text": [
      "<class 'pandas.core.frame.DataFrame'>\n",
      "RangeIndex: 2 entries, 0 to 1\n",
      "Data columns (total 9 columns):\n",
      " #   Column                 Non-Null Count  Dtype  \n",
      "---  ------                 --------------  -----  \n",
      " 0   plan_name              2 non-null      object \n",
      " 1   usd_monthly_pay        2 non-null      float64\n",
      " 2   minutes_included       2 non-null      int64  \n",
      " 3   messages_included      2 non-null      int64  \n",
      " 4   gb_per_month_included  2 non-null      int64  \n",
      " 5   usd_per_minute         2 non-null      float64\n",
      " 6   usd_per_message        2 non-null      float64\n",
      " 7   usd_per_gb             2 non-null      float64\n",
      " 8   costo_anual            2 non-null      float64\n",
      "dtypes: float64(5), int64(3), object(1)\n",
      "memory usage: 272.0+ bytes\n",
      "--------------\n",
      "  plan_name  usd_monthly_pay  minutes_included  messages_included  \\\n",
      "0      surf             20.0               500                 50   \n",
      "1  ultimate             70.0              3000               1000   \n",
      "\n",
      "   gb_per_month_included  usd_per_minute  usd_per_message  usd_per_gb  \\\n",
      "0                     15            0.03             0.03        10.0   \n",
      "1                     30            0.01             0.01         7.0   \n",
      "\n",
      "   costo_anual  \n",
      "0        240.0  \n",
      "1        840.0  \n"
     ]
    }
   ],
   "source": [
    "# Imprime las condiciones de la tarifa y asegúrate de que te quedan claras\n",
    "megaline_plans.info()\n",
    "print('--------------')\n",
    "print(megaline_plans.head())"
   ]
  },
  {
   "cell_type": "markdown",
   "metadata": {
    "id": "hMR1tP5d0q1F"
   },
   "source": [
    "## Agregar datos por usuario\n",
    "\n",
    "[Ahora que los datos están limpios, agrega los datos por usuario y por periodo para que solo haya un registro por usuario y por periodo. Esto facilitará mucho el análisis posterior.]"
   ]
  },
  {
   "cell_type": "code",
   "execution_count": 28,
   "metadata": {
    "id": "A332cedB0q1G"
   },
   "outputs": [
    {
     "name": "stdout",
     "output_type": "stream",
     "text": [
      "      user_id    meses  llamadas por mes\n",
      "732      1156  2018-12                48\n",
      "1082     1236  2018-07                78\n",
      "1906     1414  2018-09                59\n",
      "1858     1405  2018-08                22\n",
      "868      1185  2018-08                69\n",
      "2258\n",
      "481\n",
      "      user_id    meses  llamadas por mes\n",
      "0        1000  2018-12                16\n",
      "1        1001  2018-08                27\n",
      "2        1001  2018-09                49\n",
      "3        1001  2018-10                65\n",
      "4        1001  2018-11                64\n",
      "...       ...      ...               ...\n",
      "2253     1498  2018-12                39\n",
      "2254     1499  2018-09                41\n",
      "2255     1499  2018-10                53\n",
      "2256     1499  2018-11                45\n",
      "2257     1499  2018-12                65\n",
      "\n",
      "[2258 rows x 3 columns]\n"
     ]
    }
   ],
   "source": [
    "# Calcula el número de llamadas hechas por cada usuario al mes. Guarda el resultado.\n",
    "\n",
    "calls_per_month = (\n",
    "    megaline_calls\n",
    "    .groupby([ 'user_id', megaline_calls['call_date'].dt.to_period('M') ])['id'] #agrupamos por usuario y meses, cada fila de id es una llamada\n",
    "    .count()\n",
    "    .reset_index()\n",
    "    .rename(columns={'call_date': 'meses', 'id': 'llamadas por mes'})\n",
    ")\n",
    "print(calls_per_month.sample(5))\n",
    "\n",
    "\n",
    "#cada fila es una combinacion unica entre el mes y el usuario, este el el total de agrupaciones\n",
    "print(calls_per_month['user_id'].count())\n",
    "#numero total de usuarios unicos\n",
    "print(calls_per_month['user_id'].nunique())\n",
    "\n",
    "#si quiero solo ver aquellos registros donde haya minimo 1 llamada\n",
    "calls_per_month_filter = calls_per_month[calls_per_month['llamadas por mes'] > 0]\n",
    "print(calls_per_month_filter)"
   ]
  },
  {
   "cell_type": "code",
   "execution_count": 29,
   "metadata": {
    "id": "aw2cmuql0q1G"
   },
   "outputs": [
    {
     "name": "stdout",
     "output_type": "stream",
     "text": [
      "      user_id    meses  minutos por mes\n",
      "0        1000  2018-12            124.0\n",
      "1        1001  2018-08            182.0\n",
      "2        1001  2018-09            315.0\n",
      "3        1001  2018-10            393.0\n",
      "4        1001  2018-11            426.0\n",
      "...       ...      ...              ...\n",
      "2253     1498  2018-12            339.0\n",
      "2254     1499  2018-09            346.0\n",
      "2255     1499  2018-10            385.0\n",
      "2256     1499  2018-11            308.0\n",
      "2257     1499  2018-12            496.0\n",
      "\n",
      "[2258 rows x 3 columns]\n",
      "      user_id    meses  minutos por mes\n",
      "0        1000  2018-12            124.0\n",
      "1        1001  2018-08            182.0\n",
      "2        1001  2018-09            315.0\n",
      "3        1001  2018-10            393.0\n",
      "4        1001  2018-11            426.0\n",
      "...       ...      ...              ...\n",
      "2253     1498  2018-12            339.0\n",
      "2254     1499  2018-09            346.0\n",
      "2255     1499  2018-10            385.0\n",
      "2256     1499  2018-11            308.0\n",
      "2257     1499  2018-12            496.0\n",
      "\n",
      "[2256 rows x 3 columns]\n"
     ]
    }
   ],
   "source": [
    "# Calcula la cantidad de minutos usados por cada usuario al mes. Guarda el resultado.\n",
    "minutes_per_month = (\n",
    "    megaline_calls\n",
    "    .groupby([ 'user_id', megaline_calls['call_date'].dt.to_period('M') ])['duration']\n",
    "    .sum()\n",
    "    .reset_index()\n",
    "    .rename(columns={'call_date': 'meses', 'duration': 'minutos por mes'})\n",
    ")\n",
    "print(minutes_per_month)\n",
    "\n",
    "#si quiero solo ver aquellos registros donde haya minimo 1 minuto \n",
    "minutes_per_month_filter = minutes_per_month[minutes_per_month['minutos por mes'] > 0]\n",
    "print(minutes_per_month_filter)"
   ]
  },
  {
   "cell_type": "markdown",
   "metadata": {},
   "source": [
    "<div class=\"alert alert-block alert-success\">\n",
    "<b>Comentario de Revisor            </b> <a class=\"tocSkip\"></a>\n",
    "\n",
    "Muy bien, correcto el cálculo del consumo mensual de llamadas para cada usuario.\n",
    "\n",
    "\n",
    "</div>"
   ]
  },
  {
   "cell_type": "code",
   "execution_count": 30,
   "metadata": {
    "id": "CcQvNHn60q1G"
   },
   "outputs": [
    {
     "name": "stdout",
     "output_type": "stream",
     "text": [
      "      user_id    meses  llamadas por mes\n",
      "256      1059  2018-08               111\n",
      "687      1148  2018-12                84\n",
      "695      1150  2018-12                76\n",
      "1041     1224  2018-08                43\n",
      "219      1053  2018-09                61\n",
      "--------------\n",
      "1806\n",
      "--------------\n",
      "402\n",
      "--------------\n",
      "      user_id    meses  mensajes por mes\n",
      "0        1000  2018-12                11\n",
      "1        1001  2018-08                30\n",
      "2        1001  2018-09                44\n",
      "3        1001  2018-10                53\n",
      "4        1001  2018-11                36\n",
      "...       ...      ...               ...\n",
      "1801     1496  2018-09                21\n",
      "1802     1496  2018-10                18\n",
      "1803     1496  2018-11                13\n",
      "1804     1496  2018-12                11\n",
      "1805     1497  2018-12                50\n",
      "\n",
      "[1806 rows x 3 columns]\n",
      "--------------\n",
      "¿Hay valores NaN?\n",
      "0\n",
      "\n",
      "¿Hay valores 0?\n",
      "0\n",
      "\n",
      "Estadísticas básicas:\n",
      "count    1806.000000\n",
      "mean       42.110188\n",
      "std        33.122931\n",
      "min         1.000000\n",
      "25%        17.000000\n",
      "50%        34.000000\n",
      "75%        59.000000\n",
      "max       266.000000\n",
      "Name: mensajes por mes, dtype: float64\n",
      "user_id             0\n",
      "meses               0\n",
      "mensajes por mes    0\n",
      "dtype: int64\n",
      "user_id                 int64\n",
      "meses               period[M]\n",
      "mensajes por mes        int64\n",
      "dtype: object\n"
     ]
    }
   ],
   "source": [
    "# Calcula el número de mensajes enviados por cada usuario al mes. Guarda el resultado.\n",
    "messages_per_month = (\n",
    "    megaline_messages\n",
    "    .groupby([ 'user_id', megaline_messages['message_date'].dt.to_period('M') ])['id']\n",
    "    .count()\n",
    "    .reset_index()\n",
    "    .rename(columns={'message_date': 'meses', 'id': 'mensajes por mes'})\n",
    ")\n",
    "print(calls_per_month.sample(5))\n",
    "print('--------------')\n",
    "#cada fila es una combinacion unica entre el mes y el usuario, este el el total de agrupaciones\n",
    "print(messages_per_month['user_id'].count())\n",
    "print('--------------')\n",
    "#numero total de usuarios unicos\n",
    "print(messages_per_month['user_id'].nunique())\n",
    "print('--------------')\n",
    "#si quiero solo ver aquellos registros donde haya minimo 1 mensaje\n",
    "messages_per_month_filter = messages_per_month[messages_per_month['mensajes por mes'] > 0]\n",
    "print(messages_per_month_filter)\n",
    "print('--------------')\n",
    "\n",
    "\n",
    "#hice todo esto porque al mostrar el dataframe ya con el merge mustra nan, queria ver porque ocurria esto si realmente no habia nulos\n",
    "print(\"¿Hay valores NaN?\")\n",
    "print(messages_per_month['mensajes por mes'].isna().sum())\n",
    "\n",
    "print(\"\\n¿Hay valores 0?\")\n",
    "print((messages_per_month['mensajes por mes'] == 0).sum())\n",
    "\n",
    "print(\"\\nEstadísticas básicas:\")\n",
    "print(messages_per_month['mensajes por mes'].describe())\n",
    "\n",
    "#verificar nulos\n",
    "print(messages_per_month.isna().sum())\n",
    "print(messages_per_month.dtypes)"
   ]
  },
  {
   "cell_type": "code",
   "execution_count": 31,
   "metadata": {
    "id": "H1AqN2eG0q1H"
   },
   "outputs": [
    {
     "name": "stdout",
     "output_type": "stream",
     "text": [
      "      user_id    meses  mb_por_mes  gb_por_mes\n",
      "1151     1246  2018-04    26662.62        27.0\n",
      "1636     1356  2018-12    20225.01        20.0\n",
      "1472     1321  2018-11    11822.98        12.0\n",
      "1766     1382  2018-11    10000.14        10.0\n",
      "2142     1466  2018-12    11303.25        12.0\n",
      "--------------\n",
      "2277\n",
      "--------------\n",
      "489\n",
      "--------------\n",
      "      user_id    meses  mb_por_mes  gb_por_mes\n",
      "0        1000  2018-12     1901.47         2.0\n",
      "1        1001  2018-08     6919.15         7.0\n",
      "2        1001  2018-09    13314.82        14.0\n",
      "3        1001  2018-10    22330.49        22.0\n",
      "4        1001  2018-11    18504.30        19.0\n",
      "...       ...      ...         ...         ...\n",
      "2272     1498  2018-12    23137.69        23.0\n",
      "2273     1499  2018-09    12984.76        13.0\n",
      "2274     1499  2018-10    19492.43        20.0\n",
      "2275     1499  2018-11    16813.83        17.0\n",
      "2276     1499  2018-12    22059.21        22.0\n",
      "\n",
      "[2277 rows x 4 columns]\n",
      "--------------\n"
     ]
    }
   ],
   "source": [
    "# Calcula el volumen del tráfico de Internet usado por cada usuario al mes. Guarda el resultado.\n",
    "internet_per_month = (\n",
    "    megaline_internet\n",
    "    .groupby([ 'user_id', megaline_internet['session_date'].dt.to_period('M') ])['mb_used']\n",
    "    .sum()\n",
    "    .reset_index()\n",
    "    .rename(columns={'session_date': 'meses', 'mb_used': 'mb_por_mes'})\n",
    ")\n",
    "internet_per_month['gb_por_mes'] = np.ceil(internet_per_month['mb_por_mes'] / 1024)\n",
    "\n",
    "print(internet_per_month.sample(5))\n",
    "print('--------------')\n",
    "#cada fila es una combinacion unica entre el mes y el usuario, este el el total de agrupaciones\n",
    "print(internet_per_month['user_id'].count())\n",
    "print('--------------')\n",
    "#numero total de usuarios unicos\n",
    "print(internet_per_month['user_id'].nunique())\n",
    "print('--------------')\n",
    "#si quiero solo ver aquellos registros donde haya minimo 1 mensaje\n",
    "internet_per_month_filter = internet_per_month[internet_per_month['gb_por_mes'] > 0]\n",
    "print(internet_per_month_filter)\n",
    "print('--------------')"
   ]
  },
  {
   "cell_type": "markdown",
   "metadata": {},
   "source": [
    "<div class=\"alert alert-block alert-success\">\n",
    "<b>Comentario de Revisor            </b> <a class=\"tocSkip\"></a>\n",
    "\n",
    "Bien, correcto el cálculo de consumo de mensajes e internet\n",
    "\n",
    "</div>"
   ]
  },
  {
   "cell_type": "markdown",
   "metadata": {
    "id": "VDfYXnj80q1H"
   },
   "source": [
    "[Junta los datos agregados en un DataFrame para que haya un registro que represente lo que consumió un usuario único en un mes determinado.]"
   ]
  },
  {
   "cell_type": "code",
   "execution_count": 32,
   "metadata": {
    "id": "FW99ykyf0q1H"
   },
   "outputs": [
    {
     "name": "stdout",
     "output_type": "stream",
     "text": [
      "      user_id    meses  llamadas por mes  mensajes por mes  mb_por_mes  \\\n",
      "2188     1485  2018-12              53.0              24.0    19484.73   \n",
      "1360     1299  2018-11              77.0               6.0    11977.33   \n",
      "573      1123  2018-10              88.0              27.0    21505.98   \n",
      "1636     1361  2018-07              52.0              41.0    10531.35   \n",
      "1409     1313  2018-10              76.0              45.0    21656.21   \n",
      "\n",
      "      gb_por_mes  minutos por mes  \n",
      "2188        20.0            329.0  \n",
      "1360        12.0            618.0  \n",
      "573         22.0            620.0  \n",
      "1636        11.0            378.0  \n",
      "1409        22.0            564.0  \n",
      "user_id               0\n",
      "meses                 0\n",
      "llamadas por mes     35\n",
      "mensajes por mes    487\n",
      "mb_por_mes           16\n",
      "gb_por_mes           16\n",
      "minutos por mes      35\n",
      "dtype: int64\n",
      "user_id                 int64\n",
      "meses               period[M]\n",
      "llamadas por mes      float64\n",
      "mensajes por mes      float64\n",
      "mb_por_mes            float64\n",
      "gb_por_mes            float64\n",
      "minutos por mes       float64\n",
      "dtype: object\n"
     ]
    }
   ],
   "source": [
    "# Fusiona los datos de llamadas, minutos, mensajes e Internet con base en user_id y month\n",
    "\n",
    "# fusionar llamadas con mensajes\n",
    "df_merged = pd.merge(calls_per_month,\n",
    "                     messages_per_month,\n",
    "                     on=['user_id', 'meses'],\n",
    "                     how='outer') \n",
    "\n",
    "# fusionar con internet\n",
    "\n",
    "df_merged = pd.merge(df_merged,\n",
    "                     internet_per_month,\n",
    "                     on=['user_id', 'meses'],\n",
    "                     how='outer')\n",
    "\n",
    "df_merged = pd.merge(df_merged,\n",
    "                     minutes_per_month,\n",
    "                     on=['user_id', 'meses'],\n",
    "                     how='outer')\n",
    "\n",
    "print(df_merged.sample(5))\n",
    "#los nan dados en mensajes por minuto no se cuentan como nulos\n",
    "#verificar nulos\n",
    "print(df_merged.isna().sum())\n",
    "print(df_merged.dtypes)"
   ]
  },
  {
   "cell_type": "markdown",
   "metadata": {},
   "source": [
    "<div class=\"alert alert-block alert-success\">\n",
    "<b>Comentario de Revisor     </b> <a class=\"tocSkip\"></a>\n",
    "\n",
    "Correcto el uso del merge tipo outer, esto evita que se pierdan datos de usuarios.\n",
    "\n",
    "</div>"
   ]
  },
  {
   "cell_type": "code",
   "execution_count": 33,
   "metadata": {
    "id": "0dNOXHag0q1H"
   },
   "outputs": [
    {
     "name": "stdout",
     "output_type": "stream",
     "text": [
      "      user_id    meses  llamadas por mes  mensajes por mes  mb_por_mes  \\\n",
      "2126     1468  2018-12              61.0              39.0    11986.52   \n",
      "775      1165  2018-12              24.0              24.0    15928.30   \n",
      "1922     1417  2018-09              81.0               7.0    14865.82   \n",
      "582      1126  2018-08             126.0              88.0    34307.16   \n",
      "188      1046  2018-12              83.0              32.0    13891.55   \n",
      "\n",
      "      gb_por_mes  minutos por mes      plan  \n",
      "2126        12.0            508.0      surf  \n",
      "775         16.0            184.0      surf  \n",
      "1922        15.0            573.0  ultimate  \n",
      "582         34.0            953.0  ultimate  \n",
      "188         14.0            644.0      surf  \n",
      "user_id               0\n",
      "meses                 0\n",
      "llamadas por mes     35\n",
      "mensajes por mes    487\n",
      "mb_por_mes           16\n",
      "gb_por_mes           16\n",
      "minutos por mes      35\n",
      "plan                  0\n",
      "dtype: int64\n",
      "<class 'pandas.core.frame.DataFrame'>\n",
      "Int64Index: 2293 entries, 0 to 2292\n",
      "Data columns (total 8 columns):\n",
      " #   Column            Non-Null Count  Dtype    \n",
      "---  ------            --------------  -----    \n",
      " 0   user_id           2293 non-null   int64    \n",
      " 1   meses             2293 non-null   period[M]\n",
      " 2   llamadas por mes  2258 non-null   float64  \n",
      " 3   mensajes por mes  1806 non-null   float64  \n",
      " 4   mb_por_mes        2277 non-null   float64  \n",
      " 5   gb_por_mes        2277 non-null   float64  \n",
      " 6   minutos por mes   2258 non-null   float64  \n",
      " 7   plan              2293 non-null   object   \n",
      "dtypes: float64(5), int64(1), object(1), period[M](1)\n",
      "memory usage: 161.2+ KB\n"
     ]
    }
   ],
   "source": [
    "# Añade la información de la tarifa\n",
    "df_final = pd.merge(\n",
    "    df_merged,\n",
    "    megaline_users[['user_id', 'plan']],  # nos quedamos solo con lo necesario\n",
    "    on='user_id',\n",
    "    how='left'   # left: todos los registros de df_merged, agrega la tarifa si existe\n",
    ")\n",
    "print(df_final.sample(5))\n",
    "print(df_final.isna().sum())\n",
    "df_final.info()\n",
    "#son 5880 combinaciones totales entre usuarios y meses. pero no todos los usuarios tienen informacion en cada combinacion, un ejemplo claro son los clientes inactivos"
   ]
  },
  {
   "cell_type": "markdown",
   "metadata": {},
   "source": [
    "<div class=\"alert alert-block alert-success\">\n",
    "<b>Comentario de Revisor            </b> <a class=\"tocSkip\"></a>\n",
    "\n",
    "Bien, en esta parte basta con el uso de left ya que la data de consumo de usuarios ya está completa.\n",
    "\n",
    "</div>"
   ]
  },
  {
   "cell_type": "markdown",
   "metadata": {
    "id": "1IwGo4wg0q1I"
   },
   "source": [
    "[Calcula los ingresos mensuales por usuario (resta el límite del paquete gratuito del número total de llamadas, mensajes de texto y datos; multiplica el resultado por el valor del plan de llamadas; añade la tarifa mensual en función del plan de llamadas). Nota: Dadas las condiciones del plan, ¡esto podría no ser tan trivial como un par de líneas! Así que no pasa nada si dedicas algo de tiempo a ello.]"
   ]
  },
  {
   "cell_type": "code",
   "execution_count": null,
   "metadata": {},
   "outputs": [],
   "source": []
  },
  {
   "cell_type": "code",
   "execution_count": 34,
   "metadata": {
    "id": "5FGCf_c60q1I"
   },
   "outputs": [
    {
     "name": "stdout",
     "output_type": "stream",
     "text": [
      "  plan_name  usd_monthly_pay  minutes_included  messages_included  \\\n",
      "0      surf             20.0               500                 50   \n",
      "1  ultimate             70.0              3000               1000   \n",
      "\n",
      "   gb_per_month_included  usd_per_minute  usd_per_message  usd_per_gb  \\\n",
      "0                     15            0.03             0.03        10.0   \n",
      "1                     30            0.01             0.01         7.0   \n",
      "\n",
      "   costo_anual  \n",
      "0        240.0  \n",
      "1        840.0  \n",
      "---------------------\n",
      "      user_id    meses  llamadas por mes  mensajes por mes  mb_por_mes  \\\n",
      "1046     1226  2018-08              72.0               0.0    14102.36   \n",
      "269      1061  2018-07              78.0              58.0    21455.15   \n",
      "1413     1314  2018-12              75.0              21.0    12603.63   \n",
      "688      1149  2018-09              33.0               0.0     2450.56   \n",
      "1075     1233  2018-12              46.0               0.0    18768.07   \n",
      "\n",
      "      gb_por_mes  minutos por mes      plan  \n",
      "1046        14.0            427.0  ultimate  \n",
      "269         21.0            544.0  ultimate  \n",
      "1413        13.0            529.0  ultimate  \n",
      "688          3.0            258.0      surf  \n",
      "1075        19.0            363.0      surf  \n",
      "---------------------\n",
      "   user_id    meses  llamadas por mes  mensajes por mes  mb_por_mes  \\\n",
      "0     1000  2018-12              16.0              11.0     1901.47   \n",
      "1     1001  2018-08              27.0              30.0     6919.15   \n",
      "2     1001  2018-09              49.0              44.0    13314.82   \n",
      "3     1001  2018-10              65.0              53.0    22330.49   \n",
      "4     1001  2018-11              64.0              36.0    18504.30   \n",
      "\n",
      "   gb_por_mes  minutos por mes      plan  ingresos_mensuales  \n",
      "0         2.0            124.0  ultimate               70.00  \n",
      "1         7.0            182.0      surf               20.00  \n",
      "2        14.0            315.0      surf               20.00  \n",
      "3        22.0            393.0      surf               90.09  \n",
      "4        19.0            426.0      surf               60.00  \n"
     ]
    }
   ],
   "source": [
    "# primero mostrar el plan\n",
    "print(megaline_plans)\n",
    "print('---------------------')\n",
    "\n",
    "df_final[['llamadas por mes', 'minutos por mes', 'mensajes por mes', 'gb_por_mes','mb_por_mes']] = (\n",
    "    df_final[['llamadas por mes', 'minutos por mes', 'mensajes por mes', 'gb_por_mes','mb_por_mes']]\n",
    "    .fillna(0)\n",
    ")\n",
    "print(df_final.sample(5))\n",
    "print('---------------------')\n",
    "\n",
    "def calcular_ingresos_usuarios(row):\n",
    "    plan = row['plan']\n",
    "    llamadas =row['llamadas por mes']\n",
    "    minutos = row['minutos por mes']\n",
    "    mensajes = row['mensajes por mes']\n",
    "    gb = row['gb_por_mes']\n",
    "    \n",
    "    if plan == 'surf':    # estos son datos estaticos pero igual se podria pasar el dataframe de las tarifas y solo extraer datos para sea dinamico\n",
    "        tarifa_base = 20\n",
    "        min_incluidos = 500\n",
    "        sms_incluidos = 50\n",
    "        gb_incluidos = 15\n",
    "        precio_minuto_extra = 0.03\n",
    "        precio_sms_extra = 0.03\n",
    "        precio_gb_extra = 10\n",
    "    elif plan == 'ultimate':\n",
    "        tarifa_base = 70\n",
    "        min_incluidos = 3000\n",
    "        sms_incluidos = 1000\n",
    "        gb_incluidos = 30\n",
    "        precio_minuto_extra = 0.01\n",
    "        precio_sms_extra = 0.01\n",
    "        precio_gb_extra = 7\n",
    "    else:\n",
    "        a = \"no contiene un plan apto\"\n",
    "        return a\n",
    "\n",
    "    # Calcular cuanto se uso de mas\n",
    "    min_extra = max(0, minutos - min_incluidos) #si el resultado es negativo usaremos 0, por ejemplo si un usuario no excedio los minutos de su plan, esto ayuda a que no quede un -1xx\n",
    "    sms_extra = max(0, mensajes - sms_incluidos)\n",
    "    gb_extra = max(0, gb - gb_incluidos)\n",
    "    \n",
    "\n",
    "    costo_total = (tarifa_base +  #costo total\n",
    "                   min_extra * precio_minuto_extra + \n",
    "                   sms_extra * precio_sms_extra + \n",
    "                   gb_extra * precio_gb_extra)\n",
    "    \n",
    "    return costo_total\n",
    "\n",
    " # nueva columna en el dataframe, a cada fila se le aplica la funcion, en este caso tomamos todas las columnas, axis 1 hace esto a fila completa\n",
    "df_final['ingresos_mensuales'] = df_final.apply(calcular_ingresos_usuarios, axis=1)\n",
    "\n",
    "print(df_final.head())\n",
    "\n",
    "#ejecutado nuevamente, ya no existe category"
   ]
  },
  {
   "cell_type": "markdown",
   "metadata": {},
   "source": [
    "<div class=\"alert alert-block alert-danger\">\n",
    "<b>Comentario de Revisor          </b> <a class=\"tocSkip\"></a>\n",
    "\n",
    "\n",
    "\n",
    "La idea del desarrollo está muy bien, pero aquí ya veo los efectos de usar la columna user_id como category (di una explicación detallada más arriba, en la parte de llamadas). Por favor, corrige aquello (elimina el uso de category) y ejecuta esta parte nuevamente.\n",
    "\n",
    "</div>"
   ]
  },
  {
   "cell_type": "markdown",
   "metadata": {},
   "source": [
    "<div class=\"alert alert-block alert-danger\">\n",
    "<b>Comentario de Revisor   v2       </b> <a class=\"tocSkip\"></a>\n",
    "\n",
    "Aún se requiere eliminar el uso de category para los otros consumos. Además, en esta parte, antes de realizar el cálculo del ingreso, aplica `fillna(0)` para rellenar los nulos como consumo 0. Con ello corregido, esto estará correcto.\n",
    "\n",
    "\n",
    "\n",
    "</div>"
   ]
  },
  {
   "cell_type": "markdown",
   "metadata": {},
   "source": [
    "<div class=\"alert alert-block alert-success\">\n",
    "<b>Comentario de Revisor  v3 </b> <a class=\"tocSkip\"></a>\n",
    "\n",
    "¡Buen trabajo Carolina! Las últimas correcciones quedaron muy bien. Completaste todas las tareas del notebook de forma correcta, así que no tengo más observaciones que hacer. El proyecto está aprobado. Todo lo que aplicaste aquí será de gran valor en futuros análisis. ¡Mucho éxito en lo que viene!\n",
    "\n",
    "Saludos.\n",
    "\n",
    "</div>"
   ]
  },
  {
   "cell_type": "markdown",
   "metadata": {
    "id": "-jtyHzJb0q1I"
   },
   "source": [
    "## Estudia el comportamiento de usuario"
   ]
  },
  {
   "cell_type": "markdown",
   "metadata": {
    "id": "AxU3Y0N70q1J"
   },
   "source": [
    "[Calcula algunas estadísticas descriptivas para los datos agregados y fusionados que nos sean útiles y que muestren un panorama general captado por los datos. Dibuja gráficos útiles para facilitar la comprensión. Dado que la tarea principal es comparar las tarifas y decidir cuál es más rentable, las estadísticas y gráficas deben calcularse por tarifa.]\n",
    "\n",
    "[En los comentarios hallarás pistas relevantes para las llamadas, pero no las hay para los mensajes e Internet. Sin embargo, el principio del estudio estadístico que se aplica para ellos es el mismo que para las llamadas.]"
   ]
  },
  {
   "cell_type": "markdown",
   "metadata": {
    "id": "vtW4CJEe0q1J"
   },
   "source": [
    "### Llamadas"
   ]
  },
  {
   "cell_type": "code",
   "execution_count": 35,
   "metadata": {
    "id": "Jf5v5--k0q1J"
   },
   "outputs": [
    {
     "data": {
      "image/png": "[encoded data removed]",
      "text/plain": [
       "<Figure size 640x480 with 1 Axes>"
      ]
     },
     "metadata": {},
     "output_type": "display_data"
    }
   ],
   "source": [
    "#agrupar y sacar los promedios\n",
    "surf_promedio = df_final[df_final['plan'] == 'surf'].groupby('meses')['llamadas por mes'].mean()\n",
    "ultimate_promedio = df_final[df_final['plan'] == 'ultimate'].groupby('meses')['llamadas por mes'].mean()\n",
    "\n",
    "# Crear DataFrame para el gráfico\n",
    "promedio_df = pd.DataFrame({\n",
    "    'Surf': surf_promedio,\n",
    "    'Ultimate': ultimate_promedio\n",
    "})\n",
    "\n",
    "# Graficar\n",
    "promedio_df.plot(kind='bar', \n",
    "                title='Duración promedio de llamadas por plan y mes',\n",
    "                xlabel='Meses',\n",
    "                 grid=True,\n",
    "                ylabel='llamadas promedio')\n",
    "plt.show()\n"
   ]
  },
  {
   "cell_type": "markdown",
   "metadata": {},
   "source": [
    "<div class=\"alert alert-block alert-success\">\n",
    "<b>Comentario de Revisor  v3    </b> <a class=\"tocSkip\"></a>\n",
    "\n",
    "Muy bien, correcto el gráfico. Vemos que en en general el consumo promedio mensual es similar entre ambos planes.\n",
    "</div>"
   ]
  },
  {
   "cell_type": "code",
   "execution_count": 36,
   "metadata": {
    "id": "QoLqW1S_0q1J"
   },
   "outputs": [
    {
     "data": {
      "image/png": "[encoded data removed]",
      "text/plain": [
       "<Figure size 1000x600 with 1 Axes>"
      ]
     },
     "metadata": {},
     "output_type": "display_data"
    }
   ],
   "source": [
    "\n",
    "# Compara el número de minutos mensuales que necesitan los usuarios de cada plan. Traza un histograma.\n",
    "\n",
    "surf_minutos = df_final[df_final['plan'] == 'surf']['minutos por mes']\n",
    "ultimate_minutos = df_final[df_final['plan'] == 'ultimate']['minutos por mes']\n",
    "\n",
    "\n",
    "# Crear histograma superpuesto\n",
    "plt.figure(figsize=(10, 6))\n",
    "plt.hist(surf_minutos, bins=30, alpha=0.7, label='Surf')\n",
    "plt.hist(ultimate_minutos, bins=30, alpha=0.55, label='Ultimate')\n",
    "\n",
    "plt.title('Distribución de minutos mensuales por plan')\n",
    "plt.xlabel('Minutos por mes')\n",
    "plt.ylabel('Frecuencia')\n",
    "plt.legend() #mostrar que representa cada color\n",
    "plt.grid(True, alpha=0.3)\n",
    "plt.show()\n"
   ]
  },
  {
   "cell_type": "markdown",
   "metadata": {},
   "source": [
    "<div class=\"alert alert-block alert-success\">\n",
    "<b>Comentario de Revisor       v3     </b> <a class=\"tocSkip\"></a>\n",
    "\n",
    "Bien, correcto, las distribuciones son más o menos similares, pero surf parece más concentrado\n",
    "</div>"
   ]
  },
  {
   "cell_type": "markdown",
   "metadata": {
    "id": "bLS9T8OH0q1K"
   },
   "source": [
    "[Calcula la media y la variable de la duración de las llamadas para averiguar si los usuarios de los distintos planes se comportan de forma diferente al realizar sus llamadas.]"
   ]
  },
  {
   "cell_type": "code",
   "execution_count": 37,
   "metadata": {
    "id": "oSndbAnt0q1K"
   },
   "outputs": [
    {
     "name": "stdout",
     "output_type": "stream",
     "text": [
      "  Media: 428.7495232040687 \n",
      "  Varianza: 54968.27946065038\n",
      "  Media: 430.45\n",
      "  Varianza: 57844.46481223922\n",
      "  Media: 429.2834714348016\n",
      "  Varianza: 55847.17877118995\n"
     ]
    }
   ],
   "source": [
    "\n",
    "# Calcula la media y la varianza de la duración mensual de llamadas.\n",
    "\n",
    "# Para Surf\n",
    "surf_minutos = df_final[df_final['plan'] == 'surf']['minutos por mes']\n",
    "surf_promedio = surf_minutos.mean()\n",
    "variance_surf = surf_minutos.var()\n",
    "print(f\"  Media: {surf_promedio} \")\n",
    "print(f\"  Varianza: {variance_surf}\")\n",
    "\n",
    "# Para Ultimate\n",
    "ultimate_minutos = df_final[df_final['plan'] == 'ultimate']['minutos por mes']\n",
    "ultimate_promedio = ultimate_minutos.mean()\n",
    "variance_ultimate = ultimate_minutos.var()\n",
    "print(f\"  Media: {ultimate_promedio}\")\n",
    "print(f\"  Varianza: {variance_ultimate}\")\n",
    "\n",
    "# Para ambos \n",
    "todos_minutos = df_final['minutos por mes']\n",
    "todo_promedio = todos_minutos.mean()\n",
    "variance_total = todos_minutos.var()\n",
    "print(f\"  Media: {todo_promedio}\")\n",
    "print(f\"  Varianza: {variance_total}\")\n"
   ]
  },
  {
   "cell_type": "code",
   "execution_count": 38,
   "metadata": {},
   "outputs": [
    {
     "data": {
      "image/png": "[encoded data removed]",
      "text/plain": [
       "<Figure size 640x480 with 1 Axes>"
      ]
     },
     "metadata": {},
     "output_type": "display_data"
    }
   ],
   "source": [
    "# Traza un diagrama de caja para visualizar la distribución de la duración mensual de llamadas\n",
    "sns.boxplot(surf_minutos) #caja de surf\n",
    "plt.grid(True, alpha=0.3)\n",
    "plt.show()"
   ]
  },
  {
   "cell_type": "code",
   "execution_count": 39,
   "metadata": {},
   "outputs": [
    {
     "data": {
      "image/png": "[encoded data removed]",
      "text/plain": [
       "<Figure size 640x480 with 1 Axes>"
      ]
     },
     "metadata": {},
     "output_type": "display_data"
    }
   ],
   "source": [
    "sns.boxplot(ultimate_minutos) #caja de ultimated\n",
    "plt.grid(True, alpha=0.3)\n",
    "plt.show()"
   ]
  },
  {
   "cell_type": "code",
   "execution_count": 40,
   "metadata": {
    "id": "nZzoRUKc0q1K"
   },
   "outputs": [
    {
     "data": {
      "image/png": "[encoded data removed]",
      "text/plain": [
       "<Figure size 640x480 with 1 Axes>"
      ]
     },
     "metadata": {},
     "output_type": "display_data"
    }
   ],
   "source": [
    "\n",
    "sns.boxplot(todos_minutos) #caja de ambos\n",
    "plt.grid(True, alpha=0.3)\n",
    "plt.show()\n"
   ]
  },
  {
   "cell_type": "markdown",
   "metadata": {},
   "source": [
    "<div class=\"alert alert-block alert-success\">\n",
    "<b>Comentario de Revisor   v3       </b> <a class=\"tocSkip\"></a>\n",
    "\n",
    "\n",
    "Muy bien con los boxplot, pero lo ideal hubiese sido graficar ambos en un mismo cuadro, con el mismo eje, de forma de poder compararlos fácilmente.\n",
    "\n",
    "\n",
    "</div>"
   ]
  },
  {
   "cell_type": "markdown",
   "metadata": {
    "id": "r627zBO50q1K"
   },
   "source": [
    "\n",
    "[Elabora las conclusiones sobre el comportamiento de los usuarios con respecto a las llamadas. ¿Su comportamiento varía en función del plan?]\n",
    "diagrama de barras:\n",
    "podemos ver que un aumento creciente donde siempre domino el plan surf, teniendo a ultimated cerca pero atras\n",
    "histograma:\n",
    "podemos ver en general la mayoría de los clientes (de ambos planes) consumen entre 200 y 700 minutos mensuales, siendo más frecuente el rango de 400–600 minutos, tambien el plan Surf (azul) tiene más clientes en general, por eso su barra es más alta en casi todo el rango en cambio el plan Ultimate (naranja) tiene menos usuarios, pero su consumo tiende a concentrarse también en torno a los 400–600 minutos, tambien hay valores atipicos donde estos consumen mas que eso y justo los valores estan distribuidos al rededor de la media\n",
    "\n",
    "primer diagrama de caja:\n",
    "podemos ver que el q1 empieza en 0, siendo este el valor mas a la izquierda(no hay bigotes a la izquierda ya que este es el valor mas bajo), el q2 o mediana es alrededor de 200 aprox y el q3 alrededor de 400 aprox; ahora veamos el bigote que va a la derecha que llega hasta 900-1000 aprox antes de empezar a considerar valores como outliers. ahora veamos los datos atipicos, estos son los puntos mas alla lejos de los bigotes, en este caso solo hay hacia el lado derecho(del lado izquierdo no hay valores bigotes), encontradod en 900-1500 aprox mayormente concentrados entre 900-1210\n",
    "segundo diagrama de caja\n",
    "podemos ver que el q1 empieza en 0, siendo este el valor mas a la izquierda(no hay bigotes a la izquierda ya que este es el valor mas bajo), el q2 o mediana es alrededor de 200 aprox y el q3 alrededor de 400 aprox; ahora veamos el bigote que va a la derecha que llega hasta 900-1000 aprox antes de empezar a considerar valores como outliers. ahora veamos los datos atipicos, estos son los puntos mas alla lejos de los bigotes, en este caso solo hay hacia el lado derecho(del lado izquierdo no hay valores bigotes), encontradod en 900-1380 aprox mayormente concentrados entre 900-1210\n",
    "tercer diagrama de caja\n",
    "podemos ver que el q1 empieza en 0, siendo este el valor mas a la izquierda(no hay bigotes a la izquierda ya que este es el valor mas bajo), el q2 o mediana es alrededor de 200 aprox y el q3 alrededor de 400 aprox; ahora veamos el bigote que va a la derecha que llega hasta 900-1000 aprox antes de empezar a considerar valores como outliers. ahora veamos los datos atipicos, estos son los puntos mas alla lejos de los bigotes, en este caso solo hay hacia el lado derecho(del lado izquierdo no hay valores bigotes), encontradod en 900-1500 aprox mayormente concentrados entre 900-1220\n",
    "\n",
    "podemos ver que si ciertamente, ambas cajsa son parecidas en compraciones generales, hay mas valores atipicos en la caja de ultimated."
   ]
  },
  {
   "cell_type": "markdown",
   "metadata": {
    "id": "8idKy8Wh0q1L"
   },
   "source": [
    "### Mensajes"
   ]
  },
  {
   "cell_type": "code",
   "execution_count": 41,
   "metadata": {
    "id": "NXLxiTit0q1L"
   },
   "outputs": [
    {
     "data": {
      "image/png": "[encoded data removed]",
      "text/plain": [
       "<Figure size 640x480 with 1 Axes>"
      ]
     },
     "metadata": {},
     "output_type": "display_data"
    }
   ],
   "source": [
    "# Comprara el número de mensajes que tienden a enviar cada mes los usuarios de cada plan\n",
    "#agrupar y sacar los promedios\n",
    "surf_total = df_final[df_final['plan'] == 'surf'].groupby('meses')['mensajes por mes'].sum()\n",
    "ultimate_total = df_final[df_final['plan'] == 'ultimate'].groupby('meses')['mensajes por mes'].sum()\n",
    "\n",
    "# Crear DataFrame para el gráfico\n",
    "total_df = pd.DataFrame({\n",
    "    'Surf': surf_total,\n",
    "    'Ultimate': ultimate_total\n",
    "})\n",
    "\n",
    "# Graficar\n",
    "total_df.plot(kind='bar', \n",
    "                title='Promedio de mensajes por plan y mes',\n",
    "                xlabel='Meses',\n",
    "                 grid=True,\n",
    "                ylabel='mensajes ')\n",
    "plt.show()"
   ]
  },
  {
   "cell_type": "code",
   "execution_count": 42,
   "metadata": {
    "id": "GRI_R7xF0q1L"
   },
   "outputs": [
    {
     "data": {
      "image/png": "[encoded data removed]",
      "text/plain": [
       "<Figure size 1000x600 with 1 Axes>"
      ]
     },
     "metadata": {},
     "output_type": "display_data"
    }
   ],
   "source": [
    "# aqui no use gb_por_mes porque eso lo habia ya hecho antes en el punto marcado, no tenia caso repetir codigo, entonces tome otra columna aun no graficada en un histograma\n",
    "#estoy confundida ya que se revolvieron las columnas\n",
    "surf_mensajes = df_final[df_final['plan'] == 'surf']['mensajes por mes']\n",
    "ultimate_mensajes = df_final[df_final['plan'] == 'ultimate']['mensajes por mes']\n",
    "\n",
    "# Crear histograma superpuesto\n",
    "plt.figure(figsize=(10, 6))\n",
    "plt.hist(surf_mensajes, bins=30, alpha=0.7, label='Surf')\n",
    "plt.hist(ultimate_mensajes, bins=30, alpha=0.55, label='Ultimate')\n",
    "\n",
    "plt.title('Distribución de mensajes mensuales por plan')\n",
    "plt.xlabel('mensajes')\n",
    "plt.ylabel('Frecuencia')\n",
    "plt.legend()\n",
    "plt.grid(True, alpha=0.3)\n",
    "plt.show()"
   ]
  },
  {
   "cell_type": "code",
   "execution_count": 43,
   "metadata": {},
   "outputs": [
    {
     "name": "stdout",
     "output_type": "stream",
     "text": [
      "  Media: 31.15956770502225 \n",
      "  Varianza: 1126.7245219504066\n",
      "  Media: 37.55138888888889\n",
      "  Varianza: 1208.756743548138\n",
      "  Media: 33.166593981683384\n",
      "  Varianza: 1160.770663655758\n"
     ]
    }
   ],
   "source": [
    "# Calcula la media y la varianza del trafico de internet\n",
    "# Para Surf\n",
    "surf_mensajes = df_final[df_final['plan'] == 'surf']['mensajes por mes']\n",
    "surf_promedio = surf_mensajes.mean()\n",
    "variance_surf = surf_mensajes.var()\n",
    "print(f\"  Media: {surf_promedio} \")\n",
    "print(f\"  Varianza: {variance_surf}\")\n",
    "\n",
    "# Para Ultimate\n",
    "ultimate_mensajes = df_final[df_final['plan'] == 'ultimate']['mensajes por mes']\n",
    "ultimate_promedio = ultimate_mensajes.mean()\n",
    "variance_ultimate = ultimate_mensajes.var()\n",
    "print(f\"  Media: {ultimate_promedio}\")\n",
    "print(f\"  Varianza: {variance_ultimate}\")\n",
    "\n",
    "# Para ambos \n",
    "todos_mensajes = df_final['mensajes por mes']\n",
    "todo_promedio = todos_mensajes.mean()\n",
    "variance_total = todos_mensajes.var()\n",
    "print(f\"  Media: {todo_promedio}\")\n",
    "print(f\"  Varianza: {variance_total}\")"
   ]
  },
  {
   "cell_type": "code",
   "execution_count": 44,
   "metadata": {},
   "outputs": [
    {
     "data": {
      "image/png": "[encoded data removed]",
      "text/plain": [
       "<Figure size 640x480 with 1 Axes>"
      ]
     },
     "metadata": {},
     "output_type": "display_data"
    }
   ],
   "source": [
    "sns.boxplot(surf_mensajes) #caja de mensajes\n",
    "plt.grid(True, alpha=0.3)\n",
    "plt.show()"
   ]
  },
  {
   "cell_type": "code",
   "execution_count": 45,
   "metadata": {},
   "outputs": [
    {
     "data": {
      "image/png": "[encoded data removed]",
      "text/plain": [
       "<Figure size 640x480 with 1 Axes>"
      ]
     },
     "metadata": {},
     "output_type": "display_data"
    }
   ],
   "source": [
    "sns.boxplot(ultimate_mensajes) #caja de ultimated\n",
    "plt.grid(True, alpha=0.3)\n",
    "plt.show()"
   ]
  },
  {
   "cell_type": "code",
   "execution_count": 46,
   "metadata": {
    "id": "dtFwCGAp0q1M"
   },
   "outputs": [
    {
     "data": {
      "image/png": "[encoded data removed]",
      "text/plain": [
       "<Figure size 640x480 with 1 Axes>"
      ]
     },
     "metadata": {},
     "output_type": "display_data"
    }
   ],
   "source": [
    "sns.boxplot(todos_mensajes) #caja de todos\n",
    "plt.grid(True, alpha=0.3)\n",
    "plt.show()"
   ]
  },
  {
   "cell_type": "markdown",
   "metadata": {
    "id": "390SSL480q1M"
   },
   "source": [
    "[Elabora las conclusiones sobre el comportamiento de los usuarios con respecto a los mensajes. ¿Su comportamiento varía en función del plan?]\n",
    "con el primer grafico(de barras) podemos ver que a medida que han avanzado los meses, los usuarios han incrementado, siendo que el plan surf ha casi duplicado a los usuarios de plan ultimated en el ultimo mes que es 12-2018, ahora veamos el grafico 2 (histograma), aqui podemos ver donde se acumulan mayormente los datos(concentracion fuerte),siendo esto entre 0-10 para ambos planes, la distribución esta sesgada hacia la derecha, en general el plan surf  tiene mas llamadas que el plan limited, podemos ver que en ambos tienen una media y varianza casi similar, donde realmente vemos los cambios son en los diagramas de caja, surf tiene una caja de el mismo tamaño aproximadamente a la de limited, limited tiene los bigotes mas largos y aunque ambos tienen una gran cantidad de valores atipicos, el que tiene valores mas lejanos es surf"
   ]
  },
  {
   "cell_type": "markdown",
   "metadata": {},
   "source": [
    "<div class=\"alert alert-block alert-success\">\n",
    "<b>Comentario de Revisor  v3            </b><a class=\"tocSkip\"></a>\n",
    "\n",
    "Excelente, muy bien con la comparación del consumo de mensajes entre los planes. Vemos que se diferencian más que las llamadas.\n",
    "\n",
    "\n",
    "\n",
    "</div>"
   ]
  },
  {
   "cell_type": "markdown",
   "metadata": {
    "id": "42YSypXz0q1M"
   },
   "source": [
    "### Internet"
   ]
  },
  {
   "cell_type": "code",
   "execution_count": 47,
   "metadata": {
    "id": "lSuKPtjh0q1M"
   },
   "outputs": [
    {
     "data": {
      "image/png": "[encoded data removed]",
      "text/plain": [
       "<Figure size 640x480 with 1 Axes>"
      ]
     },
     "metadata": {},
     "output_type": "display_data"
    }
   ],
   "source": [
    "# Compara la cantidad de tráfico de Internet consumido por usuarios por plan cada mes\n",
    "#agrupar y sacar los promedios\n",
    "surf_promedio_internet = df_final[df_final['plan'] == 'surf'].groupby('meses')['gb_por_mes'].mean()\n",
    "ultimate_promedio_internet = df_final[df_final['plan'] == 'ultimate'].groupby('meses')['gb_por_mes'].mean()\n",
    "\n",
    "# Crear DataFrame para el gráfico\n",
    "internet_promedio_df = pd.DataFrame({\n",
    "    'Surf': surf_promedio_internet,\n",
    "    'Ultimate': ultimate_promedio_internet\n",
    "})\n",
    "\n",
    "# Graficar\n",
    "internet_promedio_df.plot(kind='bar', \n",
    "                title='cantidad de tráfico de Internet consumido por plan y mes',\n",
    "                xlabel='Meses',\n",
    "                 grid=True,\n",
    "                ylabel='trafico de internet promedio')\n",
    "plt.show()\n"
   ]
  },
  {
   "cell_type": "code",
   "execution_count": 48,
   "metadata": {
    "id": "wnh8jYXi0q1N"
   },
   "outputs": [
    {
     "data": {
      "image/png": "[encoded data removed]",
      "text/plain": [
       "<Figure size 1000x600 with 1 Axes>"
      ]
     },
     "metadata": {},
     "output_type": "display_data"
    }
   ],
   "source": [
    "# Compara la cantidad de tráfico de Internet consumido por usuarios por plan\n",
    "surf_trafico = df_final[df_final['plan'] == 'surf']['gb_por_mes']\n",
    "ultimate_trafico = df_final[df_final['plan'] == 'ultimate']['gb_por_mes']\n",
    "# Crear histograma superpuesto\n",
    "plt.figure(figsize=(10, 6))\n",
    "plt.hist(surf_trafico, bins=30, alpha=0.7, label='Surf')\n",
    "plt.hist(ultimate_trafico, bins=30, alpha=0.55, label='Ultimate')\n",
    "\n",
    "plt.title('Cantidad de trafico de internet mensuales por plan/usuario')\n",
    "plt.xlabel('cantidad de trafico por mes')\n",
    "plt.ylabel('Frecuencia')\n",
    "plt.legend() \n",
    "plt.grid(True, alpha=0.3)\n",
    "plt.show()\n"
   ]
  },
  {
   "cell_type": "code",
   "execution_count": 49,
   "metadata": {},
   "outputs": [
    {
     "name": "stdout",
     "output_type": "stream",
     "text": [
      "  Media: 16.670692943420217 \n",
      "  Varianza: 61.58359983759012\n",
      "  Media: 17.306944444444444\n",
      "  Varianza: 58.830549760469786\n",
      "  Media: 16.870475359790667\n",
      "  Varianza: 60.78033646677916\n"
     ]
    }
   ],
   "source": [
    "# Calcula la media y la varianza del trafico de internet\n",
    "# Para Surf\n",
    "surf_trafico = df_final[df_final['plan'] == 'surf']['gb_por_mes']\n",
    "surf_promedio = surf_trafico.mean()\n",
    "variance_surf = surf_trafico.var()\n",
    "print(f\"  Media: {surf_promedio} \")\n",
    "print(f\"  Varianza: {variance_surf}\")\n",
    "\n",
    "# Para Ultimate\n",
    "ultimate_trafico = df_final[df_final['plan'] == 'ultimate']['gb_por_mes']\n",
    "ultimate_promedio = ultimate_trafico.mean()\n",
    "variance_ultimate = ultimate_trafico.var()\n",
    "print(f\"  Media: {ultimate_promedio}\")\n",
    "print(f\"  Varianza: {variance_ultimate}\")\n",
    "\n",
    "# Para ambos \n",
    "todos_trafico = df_final['gb_por_mes']\n",
    "todo_promedio = todos_trafico.mean()\n",
    "variance_total = todos_trafico.var()\n",
    "print(f\"  Media: {todo_promedio}\")\n",
    "print(f\"  Varianza: {variance_total}\")"
   ]
  },
  {
   "cell_type": "code",
   "execution_count": 50,
   "metadata": {},
   "outputs": [
    {
     "data": {
      "image/png": "[encoded data removed]",
      "text/plain": [
       "<Figure size 640x480 with 1 Axes>"
      ]
     },
     "metadata": {},
     "output_type": "display_data"
    }
   ],
   "source": [
    "sns.boxplot(surf_trafico) #caja de surf\n",
    "plt.grid(True, alpha=0.3)\n",
    "plt.show()"
   ]
  },
  {
   "cell_type": "code",
   "execution_count": 51,
   "metadata": {},
   "outputs": [
    {
     "data": {
      "image/png": "[encoded data removed]",
      "text/plain": [
       "<Figure size 640x480 with 1 Axes>"
      ]
     },
     "metadata": {},
     "output_type": "display_data"
    }
   ],
   "source": [
    "sns.boxplot(ultimate_trafico) #caja de ultimated\n",
    "plt.grid(True, alpha=0.3)\n",
    "plt.show()"
   ]
  },
  {
   "cell_type": "code",
   "execution_count": 52,
   "metadata": {},
   "outputs": [
    {
     "data": {
      "image/png": "[encoded data removed]",
      "text/plain": [
       "<Figure size 640x480 with 1 Axes>"
      ]
     },
     "metadata": {},
     "output_type": "display_data"
    }
   ],
   "source": [
    "sns.boxplot(todos_trafico) #caja de todos\n",
    "plt.grid(True, alpha=0.3)\n",
    "plt.show()"
   ]
  },
  {
   "cell_type": "markdown",
   "metadata": {
    "id": "UN9zwuMP0q1N"
   },
   "source": [
    "[Elabora las conclusiones sobre cómo los usuarios tienden a consumir el tráfico de Internet. ¿Su comportamiento varía en función del plan?]\n",
    "veamos el grafico 1, podemos ver que ambos planes llevan promedios similares, a medida que van pasando los meses estos aumentan en gran medida, por meses un plan es mayor al otro y al siguiente es de forma contrario, el el ultimo mes podemos ver que ultimated es mayor por un poco\n",
    "ahora veamos el grafico 2 (histograma), aqui podemos ver donde se acumulan mayormente los datos(concentracion fuerte),siendo esto entre 0-5 para ambos planes, la distribución esta sesgada hacia la derecha, en general surf  tiene mas usuarios que limited, podemos ver que en ambos tienen una media y varianza casi similar, donde realmente vemos los cambios son en los diagramas de caja, surf tiene la caja mas ancha, los bigotes mas largos y mayor cantidad de datos atipicos"
   ]
  },
  {
   "cell_type": "markdown",
   "metadata": {},
   "source": [
    "<div class=\"alert alert-block alert-success\">\n",
    "<b>Comentario de Revisor         v3   </b> <a class=\"tocSkip\"></a>\n",
    "\n",
    "Correcto. El consumo de internet entre planes se ve muy similar.\n",
    "\n",
    "\n",
    "\n",
    "</div>"
   ]
  },
  {
   "cell_type": "markdown",
   "metadata": {
    "id": "tCijq3260q1N"
   },
   "source": [
    "## Ingreso"
   ]
  },
  {
   "cell_type": "markdown",
   "metadata": {
    "id": "9nq5IAcy0q1O"
   },
   "source": [
    "[Del mismo modo que has estudiado el comportamiento de los usuarios, describe estadísticamente los ingresos de los planes.]"
   ]
  },
  {
   "cell_type": "code",
   "execution_count": 53,
   "metadata": {
    "id": "tz-dq_V00q1O"
   },
   "outputs": [
    {
     "data": {
      "image/png": "[encoded data removed]",
      "text/plain": [
       "<Figure size 640x480 with 1 Axes>"
      ]
     },
     "metadata": {},
     "output_type": "display_data"
    }
   ],
   "source": [
    "#agrupar y sacar los promedios\n",
    "surf_ingresos = df_final[df_final['plan'] == 'surf'].groupby('meses')['ingresos_mensuales'].mean()\n",
    "ultimate_ingresos = df_final[df_final['plan'] == 'ultimate'].groupby('meses')['ingresos_mensuales'].mean()\n",
    "\n",
    "# Crear DataFrame para el gráfico\n",
    "ingresos_df = pd.DataFrame({\n",
    "    'Surf': surf_ingresos,\n",
    "    'Ultimate': ultimate_ingresos\n",
    "})\n",
    "\n",
    "# Graficar\n",
    "ingresos_df.plot(kind='bar', \n",
    "                title='',\n",
    "                xlabel='Meses',\n",
    "                 grid=True,\n",
    "                ylabel='ingresos')\n",
    "plt.show()\n"
   ]
  },
  {
   "cell_type": "code",
   "execution_count": 54,
   "metadata": {
    "id": "0Y1v8ZUz0q1P"
   },
   "outputs": [
    {
     "data": {
      "image/png": "[encoded data removed]",
      "text/plain": [
       "<Figure size 1000x600 with 1 Axes>"
      ]
     },
     "metadata": {},
     "output_type": "display_data"
    }
   ],
   "source": [
    "# Compara los ingresos mensuales que generan los usuarios de cada plan. Traza un histograma.\n",
    "surf_ingresos = df_final[df_final['plan'] == 'surf']['ingresos_mensuales']\n",
    "ultimate_ingresos = df_final[df_final['plan'] == 'ultimate']['ingresos_mensuales']\n",
    "\n",
    "# Crear histograma superpuesto\n",
    "plt.figure(figsize=(10, 6))\n",
    "plt.hist(surf_ingresos, bins=30, alpha=0.7, label='Surf')\n",
    "plt.hist(ultimate_ingresos, bins=30, alpha=0.55, label='Ultimate')\n",
    "\n",
    "plt.title('Distribución de ingresos mensuales por plan')\n",
    "plt.xlabel('Ingresos mensuales')\n",
    "plt.ylabel('Frecuencia')\n",
    "plt.legend()\n",
    "plt.grid(True, alpha=0.3)\n",
    "plt.show()"
   ]
  },
  {
   "cell_type": "code",
   "execution_count": 55,
   "metadata": {},
   "outputs": [
    {
     "name": "stdout",
     "output_type": "stream",
     "text": [
      "  Media: 60.706408137317226 \n",
      "  Varianza: 3067.835152293878\n",
      "  Media: 72.31388888888888\n",
      "  Varianza: 129.8484855509195\n",
      "  Media: 64.3511469690362\n",
      "  Varianza: 2173.8855276978497\n"
     ]
    }
   ],
   "source": [
    "# Calcula la media y la varianza de la duración mensual de llamadas.\n",
    "\n",
    "# Para Surf\n",
    "surf_ingresos = df_final[df_final['plan'] == 'surf']['ingresos_mensuales']\n",
    "surf_promedio = surf_ingresos.mean()\n",
    "variance_surf = surf_ingresos.var()\n",
    "print(f\"  Media: {surf_promedio} \")\n",
    "print(f\"  Varianza: {variance_surf}\")\n",
    "\n",
    "# Para Ultimate\n",
    "ultimate_ingresos = df_final[df_final['plan'] == 'ultimate']['ingresos_mensuales']\n",
    "ultimate_promedio = ultimate_ingresos.mean()\n",
    "variance_ultimate = ultimate_ingresos.var()\n",
    "print(f\"  Media: {ultimate_promedio}\")\n",
    "print(f\"  Varianza: {variance_ultimate}\")\n",
    "\n",
    "# Para ambos \n",
    "todos_ingresos = df_final['ingresos_mensuales']\n",
    "todo_promedio = todos_ingresos.mean()\n",
    "variance_total = todos_ingresos.var()\n",
    "print(f\"  Media: {todo_promedio}\")\n",
    "print(f\"  Varianza: {variance_total}\")\n"
   ]
  },
  {
   "cell_type": "code",
   "execution_count": 56,
   "metadata": {},
   "outputs": [
    {
     "data": {
      "image/png": "[encoded data removed]",
      "text/plain": [
       "<Figure size 640x480 with 1 Axes>"
      ]
     },
     "metadata": {},
     "output_type": "display_data"
    }
   ],
   "source": [
    "sns.boxplot(surf_ingresos) #caja de surf\n",
    "plt.grid(True, alpha=0.3)\n",
    "plt.show()\n",
    "\n"
   ]
  },
  {
   "cell_type": "code",
   "execution_count": 57,
   "metadata": {},
   "outputs": [
    {
     "data": {
      "image/png": "[encoded data removed]",
      "text/plain": [
       "<Figure size 640x480 with 1 Axes>"
      ]
     },
     "metadata": {},
     "output_type": "display_data"
    }
   ],
   "source": [
    "sns.boxplot(ultimate_ingresos) #caja de ultimated\n",
    "plt.grid(True, alpha=0.3)\n",
    "plt.show()\n",
    "\n"
   ]
  },
  {
   "cell_type": "code",
   "execution_count": 58,
   "metadata": {
    "id": "bYmwxyVh0q1P"
   },
   "outputs": [
    {
     "data": {
      "image/png": "[encoded data removed]",
      "text/plain": [
       "<Figure size 640x480 with 1 Axes>"
      ]
     },
     "metadata": {},
     "output_type": "display_data"
    }
   ],
   "source": [
    "\n",
    "sns.boxplot(todos_ingresos) #caja de ambos\n",
    "plt.grid(True, alpha=0.3)\n",
    "plt.show()\n",
    "\n"
   ]
  },
  {
   "cell_type": "markdown",
   "metadata": {
    "id": "KAFidcXZ0q1P"
   },
   "source": [
    "[Elabora las conclusiones sobre cómo difiere el ingreso entre los planes.]\n",
    "primera grafica: Los ingresos se mantienen bastante constantes durante todo el año, alrededor de los 70–72 para el plan ultimated, hay un ligero aumento al final del año, para el plan surf los ngresos empiezan bajos (~20 en enero)  pero crecen mes a mes de forma constante, alcanzando casi 70 en diciembre, en los ultimos meses tiene un crecimiento acelerado, puede esto deberse a un aumento de popularidad en el plan surf\n",
    "segundo grafico: podemos ver que el plan surf esta sesgado a la derecha, , ningun valor empieza en 0 para ambos planes, el plan surf tiene mayor variabilidad en ingresos(muchos usuarios generan ingresos bajos, pero unos pocos usuarios pueden generar ingresos muy altos), en cambio en ultimated los ingresos son constantes ya que todos pagan lo mismo\n",
    "podemos ver que en el plan surf hay una varianza muy alta y una media de 36 como ingreso en cambio para ultimated tienen una media de 70 que y la varianza es de 50, es menor a la media\n",
    "los diagramas de caja no son muy claros en esa ocasion pero podemos ver que el plan surf tiene muchos datos atipicos en un rango muy alto"
   ]
  },
  {
   "cell_type": "markdown",
   "metadata": {},
   "source": [
    "<div class=\"alert alert-block alert-success\">\n",
    "<b>Comentario de Revisor  v3    </b> <a class=\"tocSkip\"></a>\n",
    "\n",
    "Bien hecho. Vemos que los planes se diferencian en el ingreso, a pesar de que el consumo de sus usuarios es muy similar. Esto ocurre porque la estructura de costos de cada plan define intervalos de consumo diferentes, para surf los usuarios tienden a salirse de esos rangos pero los de ultimate no\n",
    "\n",
    "</div>"
   ]
  },
  {
   "cell_type": "markdown",
   "metadata": {
    "id": "ajJ7VKeI0q1Q"
   },
   "source": [
    "## Prueba las hipótesis estadísticas"
   ]
  },
  {
   "cell_type": "markdown",
   "metadata": {
    "id": "AdXAZ-yL0q1Q"
   },
   "source": [
    "[Prueba la hipótesis de que son diferentes los ingresos promedio procedentes de los usuarios de los planes de llamada Ultimate y Surf.]"
   ]
  },
  {
   "cell_type": "markdown",
   "metadata": {
    "id": "IQwa_hsh0q1Q"
   },
   "source": [
    "[Elabora las hipótesis nula y alternativa, escoge la prueba estadística, determina el valor alfa.]"
   ]
  },
  {
   "cell_type": "code",
   "execution_count": 59,
   "metadata": {
    "id": "nFoPNlPq0q1R"
   },
   "outputs": [
    {
     "name": "stdout",
     "output_type": "stream",
     "text": [
      "Usuarios Surf: 1573\n",
      "Usuarios Ultimate: 720\n",
      "Ingreso promedio Surf: $60.706408137317226\n",
      "Ingreso promedio Ultimate: $72.31388888888888\n"
     ]
    }
   ],
   "source": [
    "# Prueba las hipótesis\n",
    "# Separar los ingresos por plan\n",
    "surf_ingresos = df_final[df_final['plan'] == 'surf']['ingresos_mensuales']\n",
    "ultimate_ingresos = df_final[df_final['plan'] == 'ultimate']['ingresos_mensuales']\n",
    "\n",
    "print(f\"Usuarios Surf: {len(surf_ingresos)}\")\n",
    "print(f\"Usuarios Ultimate: {len(ultimate_ingresos)}\")\n",
    "print(f\"Ingreso promedio Surf: ${surf_ingresos.mean()}\")\n",
    "print(f\"Ingreso promedio Ultimate: ${ultimate_ingresos.mean()}\")\n",
    "\n",
    "#Hipótesis Nula (H₀): Los ingresos promedio de los usuarios de Ultimate y Surf son iguales\n",
    "#Hipótesis Alternativa (H₁): Los ingresos promedio de los usuarios de Ultimate y Surf son diferentes"
   ]
  },
  {
   "cell_type": "code",
   "execution_count": 60,
   "metadata": {},
   "outputs": [
    {
     "name": "stdout",
     "output_type": "stream",
     "text": [
      "valor p:  2.862674510698644e-08\n",
      "(2.862674510698644e-08) <  (0.05)\n",
      "rechazamos la hipótesis nula\n",
      "Conclusión: Hay diferencia significativa entre los ingresos de los planes\n"
     ]
    }
   ],
   "source": [
    "#Hipótesis sobre la igualdad de las medias de dos poblaciones, de 2 colas porque no queremos la diferencia no importa la direccion\n",
    "# Compara DOS grupos INDEPENDIENTES\n",
    "alpha = 0.05\n",
    "desviacion_surf=surf_ingresos.std()\n",
    "desviacion_ultimated=ultimate_ingresos.std\n",
    "\n",
    "results = st.ttest_ind(surf_ingresos, ultimate_ingresos)\n",
    "print('valor p: ', results.pvalue) \n",
    "\n",
    "#Hipótesis Nula (H₀): Los ingresos promedio de los usuarios de Ultimate y Surf son iguales\n",
    "#Hipótesis Alternativa (H₁): Los ingresos promedio de los usuarios de Ultimate y Surf son diferentes\n",
    "\n",
    "if results.pvalue < alpha:\n",
    "    print(f\"({results.pvalue}) <  ({alpha})\")\n",
    "    print(\"rechazamos la hipótesis nula\")\n",
    "    print(\"Conclusión: Hay diferencia significativa entre los ingresos de los planes\")\n",
    "else:\n",
    "    print(f\"({results.pvalue}) >= ({alpha})\")\n",
    "    print(\"no podemos rechazar la hipótesis nula\")\n",
    "    print(\"Conclusión: No hay evidencia suficiente de diferencia entre los ingresos\")"
   ]
  },
  {
   "cell_type": "markdown",
   "metadata": {
    "id": "tCcAruM60q1R"
   },
   "source": [
    "\n",
    "[Prueba la hipótesis de que el ingreso promedio de los usuarios del área NY-NJ es diferente al de los usuarios de otras regiones.]\n",
    "usare NY-NJ-PA MSA porque es el unico parecido al valor pedido, espero no sea gran problema ya que si revisas  'state' es el unico que contiene esos elementos aunque tiene otros mas\n"
   ]
  },
  {
   "cell_type": "markdown",
   "metadata": {
    "id": "LsBgitqj0q1R"
   },
   "source": [
    "[Elabora las hipótesis nula y alternativa, escoge la prueba estadística, determina el valor alfa.]"
   ]
  },
  {
   "cell_type": "code",
   "execution_count": 61,
   "metadata": {
    "id": "Cqcj7wrZ0q1S"
   },
   "outputs": [
    {
     "name": "stdout",
     "output_type": "stream",
     "text": [
      "      user_id    meses  llamadas por mes  mensajes por mes  mb_por_mes  \\\n",
      "0        1000  2018-12              16.0              11.0     1901.47   \n",
      "1        1001  2018-08              27.0              30.0     6919.15   \n",
      "2        1001  2018-09              49.0              44.0    13314.82   \n",
      "3        1001  2018-10              65.0              53.0    22330.49   \n",
      "4        1001  2018-11              64.0              36.0    18504.30   \n",
      "...       ...      ...               ...               ...         ...   \n",
      "2288     1349  2018-12               0.0              61.0    13039.91   \n",
      "2289     1361  2018-05               0.0               2.0     1519.69   \n",
      "2290     1482  2018-10               0.0               2.0        0.00   \n",
      "2291     1108  2018-12               0.0               0.0      233.17   \n",
      "2292     1311  2018-06               0.0               0.0     1498.83   \n",
      "\n",
      "      gb_por_mes  minutos por mes      plan  ingresos_mensuales         state  \n",
      "0            2.0            124.0  ultimate               70.00        GA MSA  \n",
      "1            7.0            182.0      surf               20.00        WA MSA  \n",
      "2           14.0            315.0      surf               20.00        WA MSA  \n",
      "3           22.0            393.0      surf               90.09        WA MSA  \n",
      "4           19.0            426.0      surf               60.00        WA MSA  \n",
      "...          ...              ...       ...                 ...           ...  \n",
      "2288        13.0              0.0      surf               20.33     MA-NH MSA  \n",
      "2289         2.0              0.0      surf               20.00        AL MSA  \n",
      "2290         0.0              0.0  ultimate               70.00  NY-NJ-PA MSA  \n",
      "2291         1.0              0.0  ultimate               70.00        UT MSA  \n",
      "2292         2.0              0.0  ultimate               70.00  TN-MS-AR MSA  \n",
      "\n",
      "[2293 rows x 10 columns]\n",
      "valor p:  0.043557431621342436\n",
      "(0.043557431621342436) <  (0.05)\n",
      "RECHAZAMOS H₀: Hay diferencia significativa\n"
     ]
    }
   ],
   "source": [
    "# Prueba las hipótesis\n",
    "ny_nj_region = 'NY-NJ-PA MSA'\n",
    "\n",
    "# Hacer merge para obtener la información de estado\n",
    "df_with_state = df_final.merge(megaline_users[['user_id', 'state']], \n",
    "                               on='user_id', \n",
    "                               how='left')\n",
    "print(df_with_state)\n",
    "\n",
    "ny_nj_ingresos = df_with_state[df_with_state['state'] == ny_nj_region]['ingresos_mensuales']\n",
    "otras_ingresos = df_with_state[df_with_state['state'] != ny_nj_region]['ingresos_mensuales']\n",
    "\n",
    "desviacion_ny_nj=ny_nj_ingresos.std()\n",
    "desviacion_otras=otras_ingresos.std()\n",
    "\n",
    "#H₀: Los ingresos promedio de NY-NJ y otras regiones son iguales\n",
    "#H₁: Los ingresos promedio de NY-NJ y otras regiones son diferentes\n",
    "\n",
    "alpha = 0.05\n",
    "results = st.ttest_ind(ny_nj_ingresos, otras_ingresos)\n",
    "print('valor p: ', results.pvalue) \n",
    "\n",
    "# Conclusión\n",
    "if results.pvalue< alpha:\n",
    "    print(f\"({results.pvalue}) <  ({alpha})\")\n",
    "    print(\"RECHAZAMOS H₀: Hay diferencia significativa\")\n",
    "else:\n",
    "    print(f\"({results.pvalue}) >= ({alpha})\")\n",
    "    print(\"NO RECHAZAMOS H₀: No hay evidencia de diferencia\")"
   ]
  },
  {
   "cell_type": "markdown",
   "metadata": {},
   "source": [
    "<div class=\"alert alert-block alert-success\">\n",
    "<b>Comentario de Revisor    v3        </b> <a class=\"tocSkip\"></a>\n",
    "\n",
    "Bien hecho con los tests, fueron realizados de forma correcta. \n",
    "\n",
    "Es importante mencionar que el t-test asume que las dos muestras tienen varianzas iguales Para verificar esa igualdad de varianzas podemos usar el **test de Levene**. Este nos dice si la variabilidad entre los grupos es *estadísticamente diferente*. En futuros notebooks podrías utilizar este test para decidir sobre la igualdad de varianzas. En corto, el flujo sería así\n",
    "\n",
    "1. Usamos `levene()` para verificar si las varianzas son iguales.\n",
    "2. Dependiendo del resultado, usamos `ttest_ind()` con el argumento `equal_var`:\n",
    "   - `equal_var=True` si Levene dice que las varianzas son iguales (p > 0.05).\n",
    "   - `equal_var=False` si Levene dice que las varianzas son diferentes (p < 0.05).\n",
    "\n",
    "</div>"
   ]
  },
  {
   "cell_type": "markdown",
   "metadata": {
    "id": "bbTR8UQO0q1T"
   },
   "source": [
    "## Conclusión general\n",
    "\n",
    "[En esta sección final, enumera tus conclusiones importantes. Asegúrate de que estas abarquen todas las decisiones (suposiciones) importantes que adoptaste y que determinaron la forma elegida para procesar y analizar los datos.]"
   ]
  },
  {
   "cell_type": "code",
   "execution_count": 62,
   "metadata": {},
   "outputs": [
    {
     "ename": "SyntaxError",
     "evalue": "invalid syntax (929716306.py, line 1)",
     "output_type": "error",
     "traceback": [
      "\u001b[0;36m  Cell \u001b[0;32mIn[62], line 1\u001b[0;36m\u001b[0m\n\u001b[0;31m    primera hipotesis: el analisis muestra ue existe una diferencia significativa entre los ingresos promedio de los usuarios de los planes\u001b[0m\n\u001b[0m            ^\u001b[0m\n\u001b[0;31mSyntaxError\u001b[0m\u001b[0;31m:\u001b[0m invalid syntax\n"
     ]
    }
   ],
   "source": [
    "primera hipotesis: el analisis muestra ue existe una diferencia significativa entre los ingresos promedio de los usuarios de los planes\n",
    "el valor de p es mucho menor al valor de alfa lo que nos lleva a rechazar la hipotesis nula donde decimos\n",
    "que estos son iguales los ingresos promedio de los usuarios del plan Ultimate son consistentemente mayores y más estables\n",
    "que los del plan Surf, mientras que los usuarios de Surf presentan ingresos más bajos en promedio y con mayor variabilidad\n",
    "ltimate aporta ingresos más constantes, mientras que Surf depende de un crecimiento progresivo y presenta dispersión en los\n",
    "pagos de sus usuarios"
   ]
  },
  {
   "cell_type": "code",
   "execution_count": null,
   "metadata": {},
   "outputs": [],
   "source": [
    "segunda hipotesis: p muestra un valor el cual es menor que el nivel de alpha, por lo tantorechazamos la hipótesis nula (H₀) y aceptamos la hipótesis alternativa (H₁)\n",
    "Esto significa que existe una diferencia  significativa en los ingresos promedio de la region seleccionada respecto a los de otras regiones.\n",
    "    en otras palabras los ingresos de esa region no son iguales a los de otras zonas, aqui no estamos comprobando si son mayores o menores, sino la similitud\n"
   ]
  },
  {
   "cell_type": "markdown",
   "metadata": {},
   "source": [
    "<div class=\"alert alert-block alert-warning\">\n",
    "<b>Comentario de Revisor    v3       </b> <a class=\"tocSkip\"></a>\n",
    "\n",
    "Bien con las conclusiones acerca de los tests de hipótesis, pero es importante incluir comentarios acerca de las otras partes del notebook. Te sugiero incluir algunos valores clave de las métricas utilizadas. Esto le dará mayor solidez a tus afirmaciones y facilitará que quienes las lean comprendan mejor la base de tu análisis.\n",
    "\n",
    "Por otro lado, veo que dejaste las conclusiones en una celda de tipo código, en realidad, deberías dejarla como tipo **Markdown**, ya que es el modo de celda adecuado para dejar texto. Puedes hacer el cambio de tipo de celda mediante el menú desplegable de la barra superior.\n",
    "\n",
    "<center><img src=\"https://digitalhumanities.hkust.edu.hk/wp-content/uploads/2023/08/jupyter-notebook-cell-interface.gif\" width=\"500\"></center>\n",
    "    \n",
    "</div>"
   ]
  },
  {
   "cell_type": "code",
   "execution_count": null,
   "metadata": {},
   "outputs": [],
   "source": []
  }
 ],
 "metadata": {
  "ExecuteTimeLog": [
   {
    "duration": 828,
    "start_time": "2021-11-16T09:21:11.304Z"
   },
   {
    "duration": 893,
    "start_time": "2021-11-16T09:21:17.728Z"
   },
   {
    "duration": 1150,
    "start_time": "2021-11-16T09:21:29.568Z"
   },
   {
    "duration": 3,
    "start_time": "2021-11-16T09:24:14.495Z"
   },
   {
    "duration": 120,
    "start_time": "2021-11-16T09:24:46.630Z"
   },
   {
    "duration": 3,
    "start_time": "2021-11-16T09:28:27.882Z"
   },
   {
    "duration": 4,
    "start_time": "2021-11-16T09:29:54.281Z"
   },
   {
    "duration": 3,
    "start_time": "2021-11-16T09:30:45.936Z"
   },
   {
    "duration": 4,
    "start_time": "2021-11-16T09:31:06.300Z"
   },
   {
    "duration": 113,
    "start_time": "2021-11-16T09:31:37.208Z"
   },
   {
    "duration": 143,
    "start_time": "2021-11-16T09:31:48.656Z"
   },
   {
    "duration": 98,
    "start_time": "2021-11-16T09:31:55.678Z"
   },
   {
    "duration": 3,
    "start_time": "2021-11-16T09:32:08.535Z"
   },
   {
    "duration": 111,
    "start_time": "2021-11-16T09:32:10.120Z"
   },
   {
    "duration": 3,
    "start_time": "2021-11-16T09:32:15.732Z"
   },
   {
    "duration": 4,
    "start_time": "2021-11-16T09:32:29.423Z"
   },
   {
    "duration": 3,
    "start_time": "2021-11-16T10:03:03.074Z"
   },
   {
    "duration": 3,
    "start_time": "2021-11-16T10:10:01.288Z"
   },
   {
    "duration": 3,
    "start_time": "2021-11-16T10:10:46.923Z"
   },
   {
    "duration": 121,
    "start_time": "2021-11-16T10:37:46.494Z"
   },
   {
    "duration": 125,
    "start_time": "2021-11-16T10:38:20.632Z"
   },
   {
    "duration": 112,
    "start_time": "2021-11-16T10:46:53.001Z"
   },
   {
    "duration": 110,
    "start_time": "2021-11-16T10:48:25.775Z"
   },
   {
    "duration": 3,
    "start_time": "2021-11-16T10:50:18.720Z"
   },
   {
    "duration": 4,
    "start_time": "2021-11-16T10:50:37.649Z"
   },
   {
    "duration": 2,
    "start_time": "2021-11-16T10:50:51.884Z"
   },
   {
    "duration": 3,
    "start_time": "2021-11-16T10:51:56.237Z"
   },
   {
    "duration": 101,
    "start_time": "2021-11-16T10:53:13.791Z"
   },
   {
    "duration": 3,
    "start_time": "2021-11-16T10:55:59.186Z"
   },
   {
    "duration": 3,
    "start_time": "2021-11-16T10:56:10.751Z"
   },
   {
    "duration": 3,
    "start_time": "2021-11-16T10:56:49.038Z"
   },
   {
    "duration": 3,
    "start_time": "2021-11-16T10:56:49.174Z"
   },
   {
    "duration": 4,
    "start_time": "2021-11-16T10:56:49.414Z"
   },
   {
    "duration": 3,
    "start_time": "2021-11-16T10:56:49.680Z"
   },
   {
    "duration": 3,
    "start_time": "2021-11-16T10:56:50.370Z"
   },
   {
    "duration": 114,
    "start_time": "2021-11-16T10:59:34.518Z"
   },
   {
    "duration": 3,
    "start_time": "2021-11-16T11:01:41.201Z"
   },
   {
    "duration": 116,
    "start_time": "2021-11-16T11:01:48.754Z"
   },
   {
    "duration": 3,
    "start_time": "2021-11-16T11:02:16.685Z"
   },
   {
    "duration": 3,
    "start_time": "2021-11-16T11:02:19.479Z"
   },
   {
    "duration": 3,
    "start_time": "2021-11-16T11:02:47.067Z"
   },
   {
    "duration": 3,
    "start_time": "2021-11-16T11:02:49.353Z"
   },
   {
    "duration": 3,
    "start_time": "2021-11-16T11:03:07.835Z"
   },
   {
    "duration": 3,
    "start_time": "2021-11-16T11:03:07.953Z"
   },
   {
    "duration": 112,
    "start_time": "2021-11-16T11:07:52.072Z"
   },
   {
    "duration": 187,
    "start_time": "2021-11-16T11:09:23.468Z"
   },
   {
    "duration": 4,
    "start_time": "2021-11-16T11:10:01.455Z"
   },
   {
    "duration": 3,
    "start_time": "2021-11-16T11:10:05.069Z"
   },
   {
    "duration": 4,
    "start_time": "2021-11-16T11:10:13.376Z"
   },
   {
    "duration": 3,
    "start_time": "2021-11-16T11:10:14.434Z"
   },
   {
    "duration": 3,
    "start_time": "2021-11-16T11:10:22.853Z"
   },
   {
    "duration": 4,
    "start_time": "2021-11-16T11:27:29.279Z"
   },
   {
    "duration": 4,
    "start_time": "2021-11-16T11:29:08.919Z"
   },
   {
    "duration": 118,
    "start_time": "2021-11-16T11:29:46.703Z"
   },
   {
    "duration": 437,
    "start_time": "2021-11-16T11:36:02.181Z"
   },
   {
    "duration": 157,
    "start_time": "2021-11-16T11:36:14.388Z"
   },
   {
    "duration": 207,
    "start_time": "2021-11-16T11:47:15.898Z"
   },
   {
    "duration": 3,
    "start_time": "2021-11-16T11:53:52.092Z"
   },
   {
    "duration": 3,
    "start_time": "2021-11-16T11:53:52.236Z"
   },
   {
    "duration": 3,
    "start_time": "2021-11-16T11:59:12.005Z"
   },
   {
    "duration": 112,
    "start_time": "2021-11-16T12:00:33.446Z"
   },
   {
    "duration": 3,
    "start_time": "2021-11-16T12:02:14.453Z"
   },
   {
    "duration": 3,
    "start_time": "2021-11-16T12:02:39.512Z"
   },
   {
    "duration": 106,
    "start_time": "2021-11-16T12:03:03.460Z"
   },
   {
    "duration": 3,
    "start_time": "2021-11-17T20:37:21.139Z"
   },
   {
    "duration": 3,
    "start_time": "2021-11-17T20:37:22.229Z"
   },
   {
    "duration": 3,
    "start_time": "2021-11-17T20:38:38.806Z"
   },
   {
    "duration": 3,
    "start_time": "2021-11-17T20:38:41.958Z"
   },
   {
    "duration": 3,
    "start_time": "2021-11-17T20:43:46.551Z"
   },
   {
    "duration": 4,
    "start_time": "2021-11-17T20:58:21.835Z"
   },
   {
    "duration": 3,
    "start_time": "2021-11-17T20:59:21.872Z"
   },
   {
    "duration": 4,
    "start_time": "2021-11-17T20:59:45.352Z"
   },
   {
    "duration": 4,
    "start_time": "2021-11-17T20:59:49.646Z"
   },
   {
    "duration": 159,
    "start_time": "2021-11-17T21:02:26.949Z"
   },
   {
    "duration": 3,
    "start_time": "2021-11-17T21:03:53.461Z"
   },
   {
    "duration": 3,
    "start_time": "2021-11-17T21:03:53.694Z"
   },
   {
    "duration": 3,
    "start_time": "2021-11-17T21:05:28.145Z"
   },
   {
    "duration": 116,
    "start_time": "2021-11-17T21:05:57.787Z"
   },
   {
    "duration": 3,
    "start_time": "2021-11-17T21:06:37.993Z"
   },
   {
    "duration": 3,
    "start_time": "2021-11-17T21:06:38.261Z"
   },
   {
    "duration": 3,
    "start_time": "2021-11-17T21:11:54.358Z"
   },
   {
    "duration": 3,
    "start_time": "2021-11-17T21:12:43.846Z"
   },
   {
    "duration": 4,
    "start_time": "2021-11-17T21:13:08.773Z"
   },
   {
    "duration": 3,
    "start_time": "2021-11-17T21:14:44.441Z"
   },
   {
    "duration": 3,
    "start_time": "2021-11-17T21:15:42.059Z"
   },
   {
    "duration": 4,
    "start_time": "2021-11-17T21:15:51.995Z"
   },
   {
    "duration": 3,
    "start_time": "2021-11-17T21:15:53.923Z"
   },
   {
    "duration": 3,
    "start_time": "2021-11-17T21:15:55.282Z"
   },
   {
    "duration": 3,
    "start_time": "2021-11-17T21:16:28.492Z"
   },
   {
    "duration": 3,
    "start_time": "2021-11-17T21:16:32.603Z"
   },
   {
    "duration": 3,
    "start_time": "2021-11-17T21:17:06.941Z"
   },
   {
    "duration": 98,
    "start_time": "2021-11-17T21:18:05.733Z"
   },
   {
    "duration": 4,
    "start_time": "2021-11-17T21:21:35.255Z"
   },
   {
    "duration": 3,
    "start_time": "2021-11-17T21:21:37.804Z"
   },
   {
    "duration": 4,
    "start_time": "2021-11-17T21:23:06.071Z"
   },
   {
    "duration": 3,
    "start_time": "2021-11-17T21:23:24.799Z"
   },
   {
    "duration": 3,
    "start_time": "2021-11-17T21:23:32.591Z"
   },
   {
    "duration": 98,
    "start_time": "2021-11-17T21:28:31.559Z"
   },
   {
    "duration": 3,
    "start_time": "2021-11-17T21:28:45.448Z"
   },
   {
    "duration": 3,
    "start_time": "2021-11-17T21:29:17.303Z"
   },
   {
    "duration": 3,
    "start_time": "2021-11-17T21:29:29.617Z"
   },
   {
    "duration": 3,
    "start_time": "2021-11-17T21:29:32.681Z"
   },
   {
    "duration": 3,
    "start_time": "2021-11-17T21:36:11.474Z"
   },
   {
    "duration": 3,
    "start_time": "2021-11-17T21:36:14.791Z"
   },
   {
    "duration": 3,
    "start_time": "2021-11-17T21:36:53.943Z"
   },
   {
    "duration": 3,
    "start_time": "2021-11-17T21:36:56.165Z"
   },
   {
    "duration": 4,
    "start_time": "2021-11-17T21:37:16.590Z"
   },
   {
    "duration": 3,
    "start_time": "2021-11-17T21:37:22.702Z"
   },
   {
    "duration": 4,
    "start_time": "2021-11-17T21:38:03.479Z"
   },
   {
    "duration": 3,
    "start_time": "2021-11-17T21:38:08.601Z"
   },
   {
    "duration": 3,
    "start_time": "2021-11-17T21:38:12.928Z"
   },
   {
    "duration": 3,
    "start_time": "2021-11-17T21:38:48.896Z"
   },
   {
    "duration": 2,
    "start_time": "2021-11-17T21:38:49.171Z"
   },
   {
    "duration": 4,
    "start_time": "2021-11-17T21:39:57.889Z"
   },
   {
    "duration": 3,
    "start_time": "2021-11-17T21:39:58.057Z"
   },
   {
    "duration": 3,
    "start_time": "2021-11-17T21:41:20.108Z"
   },
   {
    "duration": 3,
    "start_time": "2021-11-17T21:41:20.629Z"
   },
   {
    "duration": 3,
    "start_time": "2021-11-17T21:42:49.136Z"
   },
   {
    "duration": 3,
    "start_time": "2021-11-17T21:43:15.137Z"
   },
   {
    "duration": 4,
    "start_time": "2021-11-17T21:43:16.766Z"
   },
   {
    "duration": 4,
    "start_time": "2021-11-17T21:43:31.711Z"
   },
   {
    "duration": 3,
    "start_time": "2021-11-17T21:43:36.312Z"
   },
   {
    "duration": 4,
    "start_time": "2021-11-17T21:45:08.825Z"
   },
   {
    "duration": 4,
    "start_time": "2021-11-17T21:45:10.119Z"
   },
   {
    "duration": 4,
    "start_time": "2021-11-17T21:45:13.748Z"
   },
   {
    "duration": 3,
    "start_time": "2021-11-17T21:45:22.219Z"
   },
   {
    "duration": 3,
    "start_time": "2021-11-17T21:45:33.412Z"
   },
   {
    "duration": 2,
    "start_time": "2021-11-17T21:46:01.885Z"
   },
   {
    "duration": 3,
    "start_time": "2021-11-17T21:46:03.628Z"
   },
   {
    "duration": 107,
    "start_time": "2021-11-17T21:47:32.512Z"
   },
   {
    "duration": 103,
    "start_time": "2021-11-17T21:50:36.243Z"
   },
   {
    "duration": 3,
    "start_time": "2021-11-18T06:28:31.440Z"
   },
   {
    "duration": 3,
    "start_time": "2021-11-18T06:29:00.168Z"
   },
   {
    "duration": 3,
    "start_time": "2021-11-18T06:31:27.008Z"
   },
   {
    "duration": 2,
    "start_time": "2021-11-18T06:35:34.288Z"
   },
   {
    "duration": 2,
    "start_time": "2021-11-18T06:38:04.527Z"
   }
  ],
  "colab": {
   "provenance": []
  },
  "kernelspec": {
   "display_name": "Python 3 (ipykernel)",
   "language": "python",
   "name": "python3"
  },
  "language_info": {
   "codemirror_mode": {
    "name": "ipython",
    "version": 3
   },
   "file_extension": ".py",
   "mimetype": "text/x-python",
   "name": "python",
   "nbconvert_exporter": "python",
   "pygments_lexer": "ipython3",
   "version": "3.9.23"
  },
  "toc": {
   "base_numbering": 1,
   "nav_menu": {},
   "number_sections": true,
   "sideBar": true,
   "skip_h1_title": false,
   "title_cell": "Table of Contents",
   "title_sidebar": "Contents",
   "toc_cell": false,
   "toc_position": {},
   "toc_section_display": true,
   "toc_window_display": true
  }
 },
 "nbformat": 4,
 "nbformat_minor": 4
}
